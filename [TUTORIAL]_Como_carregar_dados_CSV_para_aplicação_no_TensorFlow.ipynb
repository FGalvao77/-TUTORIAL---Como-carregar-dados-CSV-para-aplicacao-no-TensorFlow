{
  "nbformat": 4,
  "nbformat_minor": 0,
  "metadata": {
    "colab": {
      "provenance": [],
      "authorship_tag": "ABX9TyPecM7Z1SE5U0nClBXiifCx",
      "include_colab_link": true
    },
    "kernelspec": {
      "name": "python3",
      "display_name": "Python 3"
    },
    "language_info": {
      "name": "python"
    }
  },
  "cells": [
    {
      "cell_type": "markdown",
      "metadata": {
        "id": "view-in-github",
        "colab_type": "text"
      },
      "source": [
        "<a href=\"https://colab.research.google.com/github/FGalvao77/-TUTORIAL---Como-carregar-dados-CSV-para-aplicacao-no-TensorFlow/blob/main/%5BTUTORIAL%5D_Como_carregar_dados_CSV_para_aplica%C3%A7%C3%A3o_no_TensorFlow.ipynb\" target=\"_parent\"><img src=\"https://colab.research.google.com/assets/colab-badge.svg\" alt=\"Open In Colab\"/></a>"
      ]
    },
    {
      "cell_type": "markdown",
      "source": [
        "### **[TUTORIAL] - Como carregar dados `CSV` para aplicação no _TensorFlow_**\n",
        "---\n",
        "---\n",
        "<br>\n",
        "\n",
        "Este tutorial fornece um exemplo de como carregar dados CSV de um arquivo em um `tf.data.Dataset`.\n",
        "\n",
        "Os dados usados neste tutorial foram retirados da lista de passageiros do **Titanic88. O modelo preverá a probabilidade de sobrevivência de um passageiro com base em características como idade, sexo, classe de passagem e se a pessoa estava viajando sozinha.\n",
        "\n",
        "Material base de consulta e orientação:\n",
        "- https://www.tensorflow.org/tutorials/load_data/csv?hl=pt-br"
      ],
      "metadata": {
        "id": "xiV-4BQTn8uo"
      }
    },
    {
      "cell_type": "markdown",
      "source": [
        "#### **1. Setup**"
      ],
      "metadata": {
        "id": "CCUQbdDSoE9x"
      }
    },
    {
      "cell_type": "code",
      "execution_count": 1,
      "metadata": {
        "colab": {
          "base_uri": "https://localhost:8080/"
        },
        "id": "nV2m5B4BnrAL",
        "outputId": "b803cb0d-9f25-41e9-ef80-25037b49208a"
      },
      "outputs": [
        {
          "output_type": "stream",
          "name": "stdout",
          "text": [
            "Colab only includes TensorFlow 2.x; %tensorflow_version has no effect.\n"
          ]
        }
      ],
      "source": [
        "try:\n",
        "    # %tensorflow_version only exists in Colab\n",
        "    %tensorflow_version 2.x\n",
        "except Exception:\n",
        "    pass"
      ]
    },
    {
      "cell_type": "code",
      "source": [
        "from __future__ import absolute_import, division, print_function, unicode_literals\n",
        "import functools\n",
        "\n",
        "import numpy as np\n",
        "import tensorflow as tf"
      ],
      "metadata": {
        "id": "X4WGdCLQn3B_"
      },
      "execution_count": 2,
      "outputs": []
    },
    {
      "cell_type": "code",
      "source": [
        "print(\n",
        "    '[VERSION] -',\n",
        "    f'NumPy: {np.__version__} |',\n",
        "    f'TensorFlow: {tf.__version__}'\n",
        ")"
      ],
      "metadata": {
        "colab": {
          "base_uri": "https://localhost:8080/"
        },
        "id": "QNdMeF9on2_L",
        "outputId": "ca97a760-64fd-45e6-c379-64e1f4a669ec"
      },
      "execution_count": 3,
      "outputs": [
        {
          "output_type": "stream",
          "name": "stdout",
          "text": [
            "[VERSION] - NumPy: 1.21.6 | TensorFlow: 2.11.0\n"
          ]
        }
      ]
    },
    {
      "cell_type": "code",
      "source": [
        "TRAIN_DATA_URL = 'https://storage.googleapis.com/tf-datasets/titanic/train.csv'\n",
        "\n",
        "TEST_DATA_URL = 'https://storage.googleapis.com/tf-datasets/titanic/eval.csv'"
      ],
      "metadata": {
        "id": "R_XbiL_lp0di"
      },
      "execution_count": 4,
      "outputs": []
    },
    {
      "cell_type": "code",
      "source": [
        "train_file_path = tf.keras.utils.get_file('train.csv', TRAIN_DATA_URL)\n",
        "\n",
        "test_file_path = tf.keras.utils.get_file('eval.csv', TEST_DATA_URL)"
      ],
      "metadata": {
        "id": "ykc9H_zyn29G"
      },
      "execution_count": 5,
      "outputs": []
    },
    {
      "cell_type": "code",
      "source": [
        "# setando o ambiente para facilitar a leitura de valores numpy\n",
        "np.set_printoptions(precision=3, suppress=True)"
      ],
      "metadata": {
        "id": "-so2fuUan26n"
      },
      "execution_count": 6,
      "outputs": []
    },
    {
      "cell_type": "markdown",
      "source": [
        "#### **2. Carregar dados**"
      ],
      "metadata": {
        "id": "yD7L7YgeqHHB"
      }
    },
    {
      "cell_type": "markdown",
      "source": [
        "Visualizando o conjunto de dados:\n",
        "- `head`: 10 primeiras observações e,\n",
        "- `tail`: 10 últimas observações."
      ],
      "metadata": {
        "id": "cF9k3SnowZN8"
      }
    },
    {
      "cell_type": "code",
      "source": [
        "!head {train_file_path}"
      ],
      "metadata": {
        "colab": {
          "base_uri": "https://localhost:8080/"
        },
        "id": "oT8D86zvp6WF",
        "outputId": "e152aee3-c0ca-45d4-be61-80c4d55c3260"
      },
      "execution_count": 7,
      "outputs": [
        {
          "output_type": "stream",
          "name": "stdout",
          "text": [
            "survived,sex,age,n_siblings_spouses,parch,fare,class,deck,embark_town,alone\n",
            "0,male,22.0,1,0,7.25,Third,unknown,Southampton,n\n",
            "1,female,38.0,1,0,71.2833,First,C,Cherbourg,n\n",
            "1,female,26.0,0,0,7.925,Third,unknown,Southampton,y\n",
            "1,female,35.0,1,0,53.1,First,C,Southampton,n\n",
            "0,male,28.0,0,0,8.4583,Third,unknown,Queenstown,y\n",
            "0,male,2.0,3,1,21.075,Third,unknown,Southampton,n\n",
            "1,female,27.0,0,2,11.1333,Third,unknown,Southampton,n\n",
            "1,female,14.0,1,0,30.0708,Second,unknown,Cherbourg,n\n",
            "1,female,4.0,1,1,16.7,Third,G,Southampton,n\n"
          ]
        }
      ]
    },
    {
      "cell_type": "code",
      "source": [
        "!tail {train_file_path}"
      ],
      "metadata": {
        "colab": {
          "base_uri": "https://localhost:8080/"
        },
        "id": "byuHzZf-w4HS",
        "outputId": "0c10e5c7-4be7-4d93-fa00-9b1ae662babb"
      },
      "execution_count": 8,
      "outputs": [
        {
          "output_type": "stream",
          "name": "stdout",
          "text": [
            "1,female,15.0,0,0,7.225,Third,unknown,Cherbourg,y\n",
            "0,male,20.0,0,0,9.8458,Third,unknown,Southampton,y\n",
            "0,male,19.0,0,0,7.8958,Third,unknown,Southampton,y\n",
            "0,male,28.0,0,0,7.8958,Third,unknown,Southampton,y\n",
            "0,female,22.0,0,0,10.5167,Third,unknown,Southampton,y\n",
            "0,male,28.0,0,0,10.5,Second,unknown,Southampton,y\n",
            "0,male,25.0,0,0,7.05,Third,unknown,Southampton,y\n",
            "1,female,19.0,0,0,30.0,First,B,Southampton,y\n",
            "0,female,28.0,1,2,23.45,Third,unknown,Southampton,n\n",
            "0,male,32.0,0,0,7.75,Third,unknown,Queenstown,y\n"
          ]
        }
      ]
    },
    {
      "cell_type": "markdown",
      "source": [
        "Você pode carregar isso usando pandas e passar as matrizes NumPy para o TensorFlow. Se você precisar escalar até um grande conjunto de arquivos ou precisar de um carregador que se integre ao TensorFlow e tf.data, use o `tf.data.experimental.make_csv_dataset`:\n",
        "\n",
        "A única coluna que você precisa identificar explicitamente é aquela com o valor que o modelo pretende prever."
      ],
      "metadata": {
        "id": "0yrAsWNtGkjm"
      }
    },
    {
      "cell_type": "code",
      "source": [
        "# instanciando a coluna dependente\n",
        "LABEL_COLUMN = 'survived'\n",
        "\n",
        "# instanciando o valor do rótulo\n",
        "LABELS = [0, 1] # 0: não | 1: sim"
      ],
      "metadata": {
        "id": "W_ERO_vop6Sc"
      },
      "execution_count": 9,
      "outputs": []
    },
    {
      "cell_type": "code",
      "source": [
        "# ?tf.data.experimental.make_csv_dataset"
      ],
      "metadata": {
        "id": "ktrLjtM-20Lx"
      },
      "execution_count": 10,
      "outputs": []
    },
    {
      "cell_type": "code",
      "source": [
        "def get_dataset(file_path:str, **kwargs) -> str:\n",
        "    dataset = tf.data.experimental.make_csv_dataset(\n",
        "        file_pattern=file_path,\n",
        "        batch_size=100, # utilizando somente 100 observações para análise\n",
        "        label_name=LABEL_COLUMN,\n",
        "        na_value='?',\n",
        "        num_epochs=1,\n",
        "        ignore_errors=True,\n",
        "        encoding='utf-8',\n",
        "        **kwargs\n",
        "    )\n",
        "\n",
        "    return dataset"
      ],
      "metadata": {
        "id": "UMir4VH2p6Rj"
      },
      "execution_count": 11,
      "outputs": []
    },
    {
      "cell_type": "code",
      "source": [
        "raw_train_data = get_dataset(train_file_path)\n",
        "\n",
        "raw_test_data = get_dataset(test_file_path)"
      ],
      "metadata": {
        "id": "i9bpjx-Op6QE",
        "colab": {
          "base_uri": "https://localhost:8080/"
        },
        "outputId": "bf9aa332-c902-4ad3-8fc7-a1155cd8b191"
      },
      "execution_count": 12,
      "outputs": [
        {
          "output_type": "stream",
          "name": "stderr",
          "text": [
            "WARNING:tensorflow:From /usr/local/lib/python3.8/dist-packages/tensorflow/python/data/experimental/ops/readers.py:572: ignore_errors (from tensorflow.python.data.experimental.ops.error_ops) is deprecated and will be removed in a future version.\n",
            "Instructions for updating:\n",
            "Use `tf.data.Dataset.ignore_errors` instead.\n"
          ]
        }
      ]
    },
    {
      "cell_type": "code",
      "source": [
        "raw_train_data"
      ],
      "metadata": {
        "colab": {
          "base_uri": "https://localhost:8080/"
        },
        "id": "bzJLmf3fp6Jv",
        "outputId": "d9c8d711-087e-48a4-fccd-b0d165c1782c"
      },
      "execution_count": 13,
      "outputs": [
        {
          "output_type": "execute_result",
          "data": {
            "text/plain": [
              "<PrefetchDataset element_spec=(OrderedDict([('sex', TensorSpec(shape=(None,), dtype=tf.string, name=None)), ('age', TensorSpec(shape=(None,), dtype=tf.float32, name=None)), ('n_siblings_spouses', TensorSpec(shape=(None,), dtype=tf.int32, name=None)), ('parch', TensorSpec(shape=(None,), dtype=tf.int32, name=None)), ('fare', TensorSpec(shape=(None,), dtype=tf.float32, name=None)), ('class', TensorSpec(shape=(None,), dtype=tf.string, name=None)), ('deck', TensorSpec(shape=(None,), dtype=tf.string, name=None)), ('embark_town', TensorSpec(shape=(None,), dtype=tf.string, name=None)), ('alone', TensorSpec(shape=(None,), dtype=tf.string, name=None))]), TensorSpec(shape=(None,), dtype=tf.int32, name=None))>"
            ]
          },
          "metadata": {},
          "execution_count": 13
        }
      ]
    },
    {
      "cell_type": "code",
      "source": [
        "raw_test_data"
      ],
      "metadata": {
        "colab": {
          "base_uri": "https://localhost:8080/"
        },
        "id": "TNC6_K2xyuqM",
        "outputId": "c1870f1f-d86b-4ed0-e4ea-b1dd21a78d4d"
      },
      "execution_count": 14,
      "outputs": [
        {
          "output_type": "execute_result",
          "data": {
            "text/plain": [
              "<PrefetchDataset element_spec=(OrderedDict([('sex', TensorSpec(shape=(None,), dtype=tf.string, name=None)), ('age', TensorSpec(shape=(None,), dtype=tf.float32, name=None)), ('n_siblings_spouses', TensorSpec(shape=(None,), dtype=tf.int32, name=None)), ('parch', TensorSpec(shape=(None,), dtype=tf.int32, name=None)), ('fare', TensorSpec(shape=(None,), dtype=tf.float32, name=None)), ('class', TensorSpec(shape=(None,), dtype=tf.string, name=None)), ('deck', TensorSpec(shape=(None,), dtype=tf.string, name=None)), ('embark_town', TensorSpec(shape=(None,), dtype=tf.string, name=None)), ('alone', TensorSpec(shape=(None,), dtype=tf.string, name=None))]), TensorSpec(shape=(None,), dtype=tf.int32, name=None))>"
            ]
          },
          "metadata": {},
          "execution_count": 14
        }
      ]
    },
    {
      "cell_type": "code",
      "source": [
        "def show_batch(dataset:str) -> str:\n",
        "    for batch, label in dataset.take(1):\n",
        "        for key, value in batch.items():\n",
        "            print('{:20s}: {}'.format(key, value.numpy()))"
      ],
      "metadata": {
        "id": "2uzdH-vZp6H9"
      },
      "execution_count": 15,
      "outputs": []
    },
    {
      "cell_type": "markdown",
      "source": [
        "Cada item do conjunto de dados é um lote, representado como uma tupla de (* muitos exemplos *, * muitos rótulos *). Os dados dos exemplos são organizados em tensores baseados em colunas (em vez de tensores baseados em linhas), cada um com tantos elementos quanto o tamanho do lote (5 neste caso).\n",
        "\n",
        "Pode ajudar a ver isso por si mesmo."
      ],
      "metadata": {
        "id": "NBAZlgDlHIEp"
      }
    },
    {
      "cell_type": "code",
      "source": [
        "show_batch(dataset=raw_train_data)"
      ],
      "metadata": {
        "colab": {
          "base_uri": "https://localhost:8080/"
        },
        "id": "2st9fMQip6Ec",
        "outputId": "5191a0ed-e54a-40da-aa45-87354a55ee02"
      },
      "execution_count": 16,
      "outputs": [
        {
          "output_type": "stream",
          "name": "stdout",
          "text": [
            "sex                 : [b'female' b'female' b'male' b'male' b'male' b'male' b'female' b'male'\n",
            " b'female' b'male' b'male' b'male' b'male' b'female' b'male' b'female'\n",
            " b'male' b'female' b'male' b'female' b'female' b'female' b'female' b'male'\n",
            " b'female' b'male' b'male' b'male' b'male' b'male' b'male' b'male' b'male'\n",
            " b'male' b'female' b'male' b'male' b'female' b'male' b'male' b'male'\n",
            " b'female' b'female' b'male' b'male' b'female' b'male' b'male' b'female'\n",
            " b'female' b'male' b'female' b'male' b'female' b'male' b'male' b'female'\n",
            " b'female' b'male' b'male' b'male' b'male' b'male' b'female' b'male'\n",
            " b'male' b'male' b'male' b'male' b'male' b'female' b'female' b'male'\n",
            " b'female' b'male' b'female' b'male' b'male' b'male' b'male' b'male'\n",
            " b'female' b'female' b'female' b'male' b'female' b'female' b'male'\n",
            " b'female' b'male' b'male' b'female' b'male' b'male' b'male' b'female'\n",
            " b'male' b'male' b'male' b'female']\n",
            "age                 : [38.    0.75 28.   25.   22.   17.   21.   59.   17.   17.   39.   30.\n",
            " 34.   52.   20.   24.   28.   28.   48.   29.   18.   30.    3.   61.\n",
            " 39.   28.   39.   22.   36.   26.   32.   28.   28.   28.   24.   28.\n",
            " 23.   24.   28.   50.   28.   19.   47.   28.   34.   28.   20.   20.\n",
            " 26.   23.   25.   34.   47.   14.   36.   48.   30.   16.   40.5  24.\n",
            " 36.   30.   41.   35.   44.   28.   28.   28.   16.    2.   48.   30.\n",
            " 26.   23.   28.   27.   27.   28.   19.   11.   28.   27.   29.    6.\n",
            " 23.   28.   17.   28.   63.   33.   25.   25.   29.   28.   46.   52.\n",
            " 28.   28.   19.   32.  ]\n",
            "n_siblings_spouses  : [1 2 0 1 0 0 2 0 4 1 1 0 0 1 1 0 1 0 1 0 0 0 1 0 1 3 0 0 0 0 1 0 0 0 1 0 0\n",
            " 0 0 1 0 0 1 0 1 0 0 0 0 0 0 0 0 1 1 0 0 0 0 0 1 0 2 0 2 0 0 0 0 4 1 1 2 3\n",
            " 0 1 1 8 0 1 0 0 1 0 0 0 1 0 1 0 1 1 1 1 1 1 0 0 0 0]\n",
            "parch               : [0 1 0 0 0 0 2 0 2 1 5 0 0 0 1 3 2 0 0 4 0 0 2 0 1 1 0 0 0 0 0 0 0 0 0 0 1\n",
            " 0 0 0 0 0 1 0 0 1 0 0 0 0 0 0 0 0 0 0 0 0 2 0 0 0 0 0 0 0 0 0 0 1 0 1 0 2\n",
            " 0 0 0 2 0 2 0 0 0 1 0 0 0 0 0 0 0 2 0 0 0 1 0 0 0 0]\n",
            "fare                : [ 71.283  19.258   7.896   7.775   7.25    8.663 262.375  13.5     7.925\n",
            "   7.229  31.275  10.5    13.     78.267  15.742  19.258  23.45    7.75\n",
            "  76.729  21.075   9.842   8.663  41.579   6.238  83.158  25.467   0.\n",
            "   7.25    0.     10.5    15.85   26.      7.896  10.5    26.      7.25\n",
            "  63.358  13.     26.55  106.425   7.225  26.     52.554  52.     21.\n",
            "  55.      7.05    8.05   78.85    7.55    7.896  10.5    15.     30.071\n",
            "  15.55   26.55   93.5     7.75   14.5     7.896  78.85    7.896  14.108\n",
            " 512.329  90.      7.775   7.896   9.5     8.05   29.125  39.6    24.15\n",
            "   8.663 263.      7.729  21.     53.1    69.55    7.775 120.      7.229\n",
            "   7.925  26.     33.     15.046  79.2    57.      8.05   77.958   8.654\n",
            "  17.8   151.55   27.721  19.967  61.175  93.5     7.225   7.25    8.05\n",
            "  13.   ]\n",
            "class               : [b'First' b'Third' b'Third' b'Third' b'Third' b'Third' b'First' b'Second'\n",
            " b'Third' b'Third' b'Third' b'Second' b'Second' b'First' b'Third' b'Third'\n",
            " b'Third' b'Third' b'First' b'Third' b'Third' b'Third' b'Second' b'Third'\n",
            " b'First' b'Third' b'First' b'Third' b'Third' b'Second' b'Third' b'First'\n",
            " b'Third' b'Second' b'Second' b'Third' b'First' b'Second' b'First'\n",
            " b'First' b'Third' b'Second' b'First' b'First' b'Second' b'First' b'Third'\n",
            " b'Third' b'First' b'Third' b'Third' b'Second' b'Second' b'Second'\n",
            " b'Third' b'First' b'First' b'Third' b'Third' b'Third' b'First' b'Third'\n",
            " b'Third' b'First' b'First' b'Third' b'Third' b'Third' b'Third' b'Third'\n",
            " b'First' b'Third' b'Third' b'First' b'Third' b'Second' b'First' b'Third'\n",
            " b'Third' b'First' b'Third' b'Third' b'Second' b'Second' b'Second'\n",
            " b'First' b'First' b'Third' b'First' b'Third' b'Third' b'First' b'Second'\n",
            " b'Third' b'First' b'First' b'Third' b'Third' b'Third' b'Second']\n",
            "deck                : [b'C' b'unknown' b'unknown' b'unknown' b'unknown' b'unknown' b'B'\n",
            " b'unknown' b'unknown' b'unknown' b'unknown' b'unknown' b'unknown' b'D'\n",
            " b'unknown' b'unknown' b'unknown' b'unknown' b'D' b'unknown' b'unknown'\n",
            " b'unknown' b'unknown' b'unknown' b'E' b'unknown' b'A' b'unknown'\n",
            " b'unknown' b'unknown' b'unknown' b'A' b'unknown' b'unknown' b'unknown'\n",
            " b'unknown' b'D' b'unknown' b'unknown' b'C' b'unknown' b'unknown' b'D'\n",
            " b'A' b'unknown' b'E' b'unknown' b'unknown' b'unknown' b'unknown'\n",
            " b'unknown' b'F' b'unknown' b'unknown' b'unknown' b'E' b'B' b'unknown'\n",
            " b'unknown' b'unknown' b'C' b'unknown' b'unknown' b'unknown' b'C'\n",
            " b'unknown' b'unknown' b'unknown' b'unknown' b'unknown' b'A' b'unknown'\n",
            " b'unknown' b'C' b'unknown' b'unknown' b'E' b'unknown' b'unknown' b'B'\n",
            " b'unknown' b'unknown' b'unknown' b'unknown' b'unknown' b'unknown' b'B'\n",
            " b'unknown' b'D' b'unknown' b'unknown' b'C' b'unknown' b'unknown' b'E'\n",
            " b'B' b'unknown' b'unknown' b'unknown' b'unknown']\n",
            "embark_town         : [b'Cherbourg' b'Cherbourg' b'Southampton' b'Southampton' b'Southampton'\n",
            " b'Southampton' b'Cherbourg' b'Southampton' b'Southampton' b'Cherbourg'\n",
            " b'Southampton' b'Southampton' b'Southampton' b'Cherbourg' b'Cherbourg'\n",
            " b'Cherbourg' b'Southampton' b'Queenstown' b'Cherbourg' b'Southampton'\n",
            " b'Southampton' b'Southampton' b'Cherbourg' b'Southampton' b'Cherbourg'\n",
            " b'Southampton' b'Southampton' b'Southampton' b'Southampton'\n",
            " b'Southampton' b'Southampton' b'Southampton' b'Cherbourg' b'Southampton'\n",
            " b'Southampton' b'Southampton' b'Cherbourg' b'Southampton' b'Southampton'\n",
            " b'Cherbourg' b'Cherbourg' b'Southampton' b'Southampton' b'Southampton'\n",
            " b'Southampton' b'Southampton' b'Southampton' b'Southampton'\n",
            " b'Southampton' b'Southampton' b'Southampton' b'Southampton'\n",
            " b'Southampton' b'Cherbourg' b'Southampton' b'Southampton' b'Southampton'\n",
            " b'Queenstown' b'Southampton' b'Southampton' b'Southampton' b'Southampton'\n",
            " b'Southampton' b'Cherbourg' b'Queenstown' b'Southampton' b'Southampton'\n",
            " b'Southampton' b'Southampton' b'Queenstown' b'Cherbourg' b'Southampton'\n",
            " b'Southampton' b'Southampton' b'Queenstown' b'Southampton' b'Southampton'\n",
            " b'Southampton' b'Southampton' b'Southampton' b'Cherbourg' b'Southampton'\n",
            " b'Southampton' b'Southampton' b'Cherbourg' b'Cherbourg' b'Southampton'\n",
            " b'Southampton' b'Southampton' b'Southampton' b'Southampton'\n",
            " b'Southampton' b'Cherbourg' b'Southampton' b'Southampton' b'Southampton'\n",
            " b'Cherbourg' b'Southampton' b'Southampton' b'Southampton']\n",
            "alone               : [b'n' b'n' b'y' b'n' b'y' b'y' b'n' b'y' b'n' b'n' b'n' b'y' b'y' b'n'\n",
            " b'n' b'n' b'n' b'y' b'n' b'n' b'y' b'y' b'n' b'y' b'n' b'n' b'y' b'y'\n",
            " b'y' b'y' b'n' b'y' b'y' b'y' b'n' b'y' b'n' b'y' b'y' b'n' b'y' b'y'\n",
            " b'n' b'y' b'n' b'n' b'y' b'y' b'y' b'y' b'y' b'y' b'y' b'n' b'n' b'y'\n",
            " b'y' b'y' b'n' b'y' b'n' b'y' b'n' b'y' b'n' b'y' b'y' b'y' b'y' b'n'\n",
            " b'n' b'n' b'n' b'n' b'y' b'n' b'n' b'n' b'y' b'n' b'y' b'y' b'n' b'n'\n",
            " b'y' b'y' b'n' b'y' b'n' b'y' b'n' b'n' b'n' b'n' b'n' b'n' b'y' b'y'\n",
            " b'y' b'y']\n"
          ]
        }
      ]
    },
    {
      "cell_type": "markdown",
      "source": [
        "Como você pode ver, as colunas no CSV são nomeadas. O construtor do conjunto de dados selecionará esses nomes automaticamente. Se o arquivo com o qual você está trabalhando não contém os nomes das colunas na primeira linha, passe-os em uma lista de strings para o argumento `column_names` na função `make_csv_dataset`."
      ],
      "metadata": {
        "id": "znPWXTzbHSho"
      }
    },
    {
      "cell_type": "code",
      "source": [
        "CSV_COLMUNS = ['survived', 'sex', 'age', 'n_siblings_spouses', 'parch', \n",
        "               'fare', 'class', 'deck', 'embark_town', 'alone']"
      ],
      "metadata": {
        "id": "TEO0s6lep6Bw"
      },
      "execution_count": 17,
      "outputs": []
    },
    {
      "cell_type": "code",
      "source": [
        "temp_dataset = get_dataset(\n",
        "    file_path=train_file_path,\n",
        "    column_names=CSV_COLMUNS\n",
        ")\n",
        "\n",
        "show_batch(dataset=temp_dataset)"
      ],
      "metadata": {
        "colab": {
          "base_uri": "https://localhost:8080/"
        },
        "id": "0DnrcZ_bn238",
        "outputId": "692913ad-d77f-45a6-9516-77af65f0cae1"
      },
      "execution_count": 18,
      "outputs": [
        {
          "output_type": "stream",
          "name": "stdout",
          "text": [
            "sex                 : [b'female' b'female' b'female' b'female' b'female' b'male' b'male' b'male'\n",
            " b'male' b'male' b'male' b'male' b'female' b'male' b'male' b'female'\n",
            " b'female' b'female' b'male' b'male' b'male' b'male' b'female' b'male'\n",
            " b'male' b'male' b'female' b'male' b'male' b'male' b'male' b'male'\n",
            " b'female' b'male' b'female' b'male' b'male' b'male' b'male' b'male'\n",
            " b'female' b'male' b'male' b'male' b'male' b'male' b'male' b'male' b'male'\n",
            " b'male' b'male' b'male' b'male' b'female' b'female' b'male' b'male'\n",
            " b'male' b'male' b'male' b'male' b'male' b'male' b'male' b'male' b'female'\n",
            " b'female' b'male' b'male' b'male' b'male' b'male' b'male' b'female'\n",
            " b'male' b'female' b'male' b'male' b'male' b'male' b'female' b'male'\n",
            " b'male' b'female' b'male' b'female' b'female' b'female' b'male' b'male'\n",
            " b'male' b'male' b'female' b'male' b'male' b'male' b'male' b'male'\n",
            " b'female' b'male']\n",
            "age                 : [28.   5.  35.  49.  11.  28.  17.  21.  42.  28.  28.  28.  30.  18.\n",
            " 28.  19.  35.   3.  33.  28.  28.  20.  28.  42.  28.  28.  19.  35.\n",
            " 29.  16.  25.  40.  22.  21.  28.  28.  45.  50.  30.  11.  29.  47.\n",
            " 28.  17.  20.  28.  39.  32.  25.  27.  31.  32.  15.  28.  32.5 35.\n",
            " 22.  26.  32.  22.  48.  28.  23.  28.  51.  36.  37.  28.  28.  50.\n",
            " 34.  28.  30.  50.  46.  19.  20.5 36.  28.  47.  31.  71.  21.  29.\n",
            " 36.  28.  17.  50.  31.  30.  26.  40.  14.  32.  70.  30.  47.  32.\n",
            " 15.  21. ]\n",
            "n_siblings_spouses  : [0 2 1 1 4 0 1 0 0 0 0 0 0 0 2 0 0 1 0 0 0 0 3 1 0 0 1 0 0 0 0 0 0 0 0 0 0\n",
            " 1 0 0 1 0 0 0 0 0 0 0 0 0 1 0 1 1 0 0 1 2 0 0 1 0 0 0 0 0 0 0 0 2 1 0 0 0\n",
            " 0 1 0 0 0 0 0 0 0 0 0 1 0 0 1 1 0 0 0 0 1 1 0 0 1 0]\n",
            "parch               : [0 1 0 0 2 0 1 0 0 0 0 0 0 0 0 0 0 2 0 0 0 0 1 0 0 0 0 0 0 0 0 0 0 0 0 0 0\n",
            " 0 0 0 1 0 0 0 0 0 0 0 0 2 1 0 1 0 0 0 0 0 0 0 0 0 0 0 0 0 0 0 0 0 0 0 0 1\n",
            " 0 0 0 0 0 0 2 0 0 4 0 0 0 0 0 0 0 0 0 0 1 0 0 0 0 0]\n",
            "fare                : [  7.879  19.258  53.1    76.729  31.275   6.858   7.229   8.05    7.55\n",
            "  26.      7.896   7.896  93.5     7.75   21.679  26.    512.329  41.579\n",
            "  12.275  26.55    8.05    9.225  25.467  52.     15.05    7.75   26.\n",
            " 512.329   9.5     9.5     7.896  27.721 151.55    8.433   7.75    7.896\n",
            "   8.05  106.425   7.896  18.788  10.462  25.587  13.      8.663   7.05\n",
            "   8.05   24.15    7.896   0.    211.5    37.004   7.925   7.229  15.5\n",
            "  13.      7.125   7.25    8.663   7.925   7.25   52.      7.896  13.\n",
            "   8.05    8.05  135.633   9.587   7.75    7.225 133.65   26.      7.75\n",
            "   7.229  26.     79.2     7.854   7.25   12.875  35.5    52.    164.867\n",
            "  34.654   7.775  21.075   7.896  16.1    14.458  28.712  57.     24.\n",
            "   7.896  31.      7.854   7.75   71.     16.1    15.     10.5    14.454\n",
            "   8.663]\n",
            "class               : [b'Third' b'Third' b'First' b'First' b'Third' b'Third' b'Third' b'Third'\n",
            " b'Third' b'First' b'Third' b'Third' b'First' b'Third' b'Third' b'Second'\n",
            " b'First' b'Second' b'Second' b'First' b'Third' b'Third' b'Third' b'First'\n",
            " b'Second' b'Third' b'Second' b'First' b'Third' b'Third' b'Third' b'First'\n",
            " b'First' b'Third' b'Third' b'Third' b'Third' b'First' b'Third' b'Third'\n",
            " b'Third' b'First' b'Second' b'Third' b'Third' b'Third' b'Third' b'Third'\n",
            " b'Third' b'First' b'Second' b'Third' b'Third' b'Third' b'Second' b'Third'\n",
            " b'Third' b'Third' b'Third' b'Third' b'First' b'Third' b'Second' b'Third'\n",
            " b'Third' b'First' b'Third' b'Third' b'Third' b'First' b'Second' b'Third'\n",
            " b'Third' b'Second' b'First' b'Third' b'Third' b'Second' b'First' b'First'\n",
            " b'First' b'First' b'Third' b'Third' b'Third' b'Third' b'Third' b'First'\n",
            " b'First' b'Second' b'Third' b'First' b'Third' b'Third' b'First' b'Third'\n",
            " b'Second' b'Second' b'Third' b'Third']\n",
            "deck                : [b'unknown' b'unknown' b'C' b'D' b'unknown' b'unknown' b'unknown'\n",
            " b'unknown' b'unknown' b'A' b'unknown' b'unknown' b'B' b'unknown'\n",
            " b'unknown' b'unknown' b'unknown' b'unknown' b'unknown' b'C' b'unknown'\n",
            " b'unknown' b'unknown' b'unknown' b'unknown' b'unknown' b'unknown' b'B'\n",
            " b'unknown' b'unknown' b'unknown' b'unknown' b'unknown' b'unknown'\n",
            " b'unknown' b'unknown' b'unknown' b'C' b'unknown' b'unknown' b'G' b'E'\n",
            " b'unknown' b'unknown' b'unknown' b'unknown' b'unknown' b'unknown'\n",
            " b'unknown' b'C' b'unknown' b'unknown' b'unknown' b'unknown' b'E'\n",
            " b'unknown' b'unknown' b'unknown' b'unknown' b'unknown' b'C' b'unknown'\n",
            " b'unknown' b'unknown' b'unknown' b'C' b'unknown' b'unknown' b'unknown'\n",
            " b'unknown' b'unknown' b'unknown' b'unknown' b'unknown' b'B' b'unknown'\n",
            " b'unknown' b'D' b'C' b'C' b'C' b'A' b'unknown' b'unknown' b'unknown'\n",
            " b'unknown' b'unknown' b'C' b'B' b'unknown' b'unknown' b'A' b'unknown'\n",
            " b'unknown' b'B' b'unknown' b'unknown' b'unknown' b'unknown' b'unknown']\n",
            "embark_town         : [b'Queenstown' b'Cherbourg' b'Southampton' b'Cherbourg' b'Southampton'\n",
            " b'Queenstown' b'Cherbourg' b'Southampton' b'Southampton' b'Southampton'\n",
            " b'Southampton' b'Southampton' b'Southampton' b'Southampton' b'Cherbourg'\n",
            " b'Southampton' b'Cherbourg' b'Cherbourg' b'Southampton' b'Southampton'\n",
            " b'Southampton' b'Southampton' b'Southampton' b'Southampton' b'Cherbourg'\n",
            " b'Queenstown' b'Southampton' b'Cherbourg' b'Southampton' b'Southampton'\n",
            " b'Southampton' b'Cherbourg' b'Southampton' b'Southampton' b'Queenstown'\n",
            " b'Southampton' b'Southampton' b'Cherbourg' b'Southampton' b'Cherbourg'\n",
            " b'Southampton' b'Southampton' b'Southampton' b'Southampton'\n",
            " b'Southampton' b'Southampton' b'Southampton' b'Southampton'\n",
            " b'Southampton' b'Cherbourg' b'Cherbourg' b'Southampton' b'Cherbourg'\n",
            " b'Queenstown' b'Southampton' b'Southampton' b'Southampton' b'Southampton'\n",
            " b'Southampton' b'Southampton' b'Southampton' b'Southampton'\n",
            " b'Southampton' b'Southampton' b'Southampton' b'Cherbourg' b'Southampton'\n",
            " b'Queenstown' b'Cherbourg' b'Southampton' b'Southampton' b'Queenstown'\n",
            " b'Cherbourg' b'Southampton' b'Cherbourg' b'Southampton' b'Southampton'\n",
            " b'Cherbourg' b'Southampton' b'Southampton' b'Southampton' b'Cherbourg'\n",
            " b'Southampton' b'Southampton' b'Southampton' b'Southampton' b'Cherbourg'\n",
            " b'Cherbourg' b'Southampton' b'Cherbourg' b'Southampton' b'Cherbourg'\n",
            " b'Southampton' b'Queenstown' b'Southampton' b'Southampton' b'Southampton'\n",
            " b'Southampton' b'Cherbourg' b'Southampton']\n",
            "alone               : [b'y' b'n' b'n' b'n' b'n' b'y' b'n' b'y' b'y' b'y' b'y' b'y' b'y' b'y'\n",
            " b'n' b'y' b'y' b'n' b'y' b'y' b'y' b'y' b'n' b'n' b'y' b'y' b'n' b'y'\n",
            " b'y' b'y' b'y' b'y' b'y' b'y' b'y' b'y' b'y' b'n' b'y' b'y' b'n' b'y'\n",
            " b'y' b'y' b'y' b'y' b'y' b'y' b'y' b'n' b'n' b'y' b'n' b'n' b'y' b'y'\n",
            " b'n' b'n' b'y' b'y' b'n' b'y' b'y' b'y' b'y' b'y' b'y' b'y' b'y' b'n'\n",
            " b'n' b'y' b'y' b'n' b'y' b'n' b'y' b'y' b'y' b'y' b'n' b'y' b'y' b'n'\n",
            " b'y' b'n' b'y' b'y' b'n' b'n' b'y' b'y' b'y' b'y' b'n' b'n' b'y' b'y'\n",
            " b'n' b'y']\n"
          ]
        }
      ]
    },
    {
      "cell_type": "markdown",
      "source": [
        "Este exemplo vai usar todas as colunas disponíveis. Se você precisar omitir algumas colunas do conjunto de dados, crie uma lista apenas das colunas que planeja usar e passe-a para o argumento (opcional) `select_columns` do construtor."
      ],
      "metadata": {
        "id": "3f2ZaQ_CHdk8"
      }
    },
    {
      "cell_type": "code",
      "source": [
        "SELECT_COLUMNS = ['survived', 'age', 'n_siblings_spouses', \n",
        "                  'class', 'deck', 'alone']"
      ],
      "metadata": {
        "id": "AX1GXpU9n2uM"
      },
      "execution_count": 19,
      "outputs": []
    },
    {
      "cell_type": "code",
      "source": [
        "temp_dataset = get_dataset(\n",
        "    file_path=train_file_path,\n",
        "    select_columns=SELECT_COLUMNS\n",
        ")\n",
        "\n",
        "show_batch(dataset=temp_dataset)"
      ],
      "metadata": {
        "colab": {
          "base_uri": "https://localhost:8080/"
        },
        "id": "sUx9BL2Y4cxd",
        "outputId": "c9514ebf-b9eb-4bf3-a9f6-b2534502d323"
      },
      "execution_count": 20,
      "outputs": [
        {
          "output_type": "stream",
          "name": "stdout",
          "text": [
            "age                 : [20.   28.   47.   28.   36.   28.   25.   57.   50.    9.   23.   24.\n",
            " 16.   30.   47.   20.5  29.   11.   14.   40.   28.   27.   28.   25.\n",
            " 28.   14.   16.   28.   21.   28.   17.    1.    4.   24.   35.   28.\n",
            " 28.   28.   28.   22.   40.   38.   49.   19.   28.   22.   36.    7.\n",
            " 51.   18.   24.   34.   30.   41.   24.   25.   57.   18.   31.   28.\n",
            " 27.   28.   22.   28.   62.   48.   34.    0.75 31.   19.   17.   28.\n",
            " 35.   33.   28.   18.   37.   16.   33.   17.   28.   38.   20.   32.\n",
            " 14.   18.   24.   45.   51.   41.   19.   19.   20.   39.   28.   18.\n",
            " 65.   21.   37.   59.  ]\n",
            "n_siblings_spouses  : [1 0 0 0 1 0 1 0 0 5 0 0 0 0 0 0 0 4 5 0 0 0 0 1 0 1 0 0 0 0 4 1 1 0 0 0 0\n",
            " 0 1 0 1 0 0 0 2 1 1 4 0 1 0 0 0 2 0 0 0 1 1 0 0 0 0 0 0 1 1 2 0 3 1 0 0 0\n",
            " 0 0 2 1 1 0 8 0 0 0 1 1 2 0 0 0 0 0 0 0 0 0 0 0 1 0]\n",
            "class               : [b'Third' b'Third' b'Third' b'Third' b'First' b'Third' b'Third' b'Second'\n",
            " b'First' b'Third' b'Second' b'Second' b'Third' b'Third' b'First' b'Third'\n",
            " b'Third' b'Third' b'Third' b'First' b'Third' b'First' b'Third' b'First'\n",
            " b'First' b'First' b'Third' b'First' b'Third' b'Third' b'Third' b'Third'\n",
            " b'Third' b'Third' b'First' b'Third' b'Third' b'Third' b'First' b'First'\n",
            " b'Second' b'First' b'Third' b'Third' b'Third' b'Second' b'Second'\n",
            " b'Third' b'Third' b'Third' b'First' b'Second' b'First' b'Third' b'First'\n",
            " b'Third' b'Second' b'Third' b'Second' b'Third' b'Second' b'Third'\n",
            " b'Third' b'First' b'Second' b'First' b'Second' b'Third' b'Third' b'First'\n",
            " b'Third' b'Third' b'Second' b'Third' b'First' b'Third' b'Third' b'Third'\n",
            " b'Third' b'First' b'Third' b'Third' b'Third' b'Second' b'Third' b'Third'\n",
            " b'Second' b'Third' b'First' b'Third' b'Third' b'Second' b'Third'\n",
            " b'Second' b'Third' b'Second' b'First' b'First' b'First' b'Second']\n",
            "deck                : [b'unknown' b'unknown' b'unknown' b'unknown' b'C' b'unknown' b'unknown'\n",
            " b'unknown' b'B' b'unknown' b'D' b'F' b'unknown' b'unknown' b'C'\n",
            " b'unknown' b'unknown' b'unknown' b'unknown' b'B' b'unknown' b'C' b'F'\n",
            " b'C' b'unknown' b'B' b'unknown' b'A' b'unknown' b'unknown' b'unknown'\n",
            " b'unknown' b'unknown' b'unknown' b'C' b'unknown' b'unknown' b'unknown'\n",
            " b'D' b'B' b'unknown' b'B' b'unknown' b'unknown' b'unknown' b'unknown'\n",
            " b'unknown' b'unknown' b'unknown' b'unknown' b'B' b'unknown' b'unknown'\n",
            " b'unknown' b'C' b'unknown' b'E' b'unknown' b'unknown' b'unknown'\n",
            " b'unknown' b'unknown' b'unknown' b'unknown' b'unknown' b'C' b'unknown'\n",
            " b'unknown' b'unknown' b'C' b'unknown' b'unknown' b'unknown' b'unknown'\n",
            " b'C' b'unknown' b'unknown' b'unknown' b'unknown' b'C' b'unknown'\n",
            " b'unknown' b'unknown' b'unknown' b'unknown' b'unknown' b'unknown'\n",
            " b'unknown' b'unknown' b'unknown' b'unknown' b'unknown' b'unknown'\n",
            " b'unknown' b'unknown' b'unknown' b'E' b'D' b'C' b'unknown']\n",
            "alone               : [b'n' b'y' b'y' b'y' b'n' b'y' b'n' b'y' b'n' b'n' b'y' b'y' b'y' b'y'\n",
            " b'y' b'y' b'y' b'n' b'n' b'y' b'y' b'n' b'y' b'n' b'y' b'n' b'y' b'y'\n",
            " b'y' b'y' b'n' b'n' b'n' b'y' b'y' b'y' b'y' b'y' b'n' b'n' b'n' b'y'\n",
            " b'y' b'y' b'n' b'n' b'n' b'n' b'y' b'n' b'n' b'y' b'y' b'n' b'y' b'y'\n",
            " b'y' b'n' b'n' b'y' b'y' b'y' b'y' b'y' b'y' b'n' b'n' b'n' b'y' b'n'\n",
            " b'n' b'y' b'y' b'y' b'y' b'y' b'n' b'n' b'n' b'n' b'n' b'y' b'y' b'y'\n",
            " b'n' b'n' b'n' b'y' b'n' b'n' b'y' b'y' b'y' b'y' b'y' b'y' b'y' b'n'\n",
            " b'n' b'y']\n"
          ]
        }
      ]
    },
    {
      "cell_type": "markdown",
      "source": [
        "#### **3. Pré-processamento dos dados**"
      ],
      "metadata": {
        "id": "cUHFrrKy6dcF"
      }
    },
    {
      "cell_type": "markdown",
      "source": [
        "Um arquivo CSV pode conter uma variedade de tipos de dados. Normalmente, você deseja converter desses tipos mistos em um vetor de comprimento fixo antes de alimentar os dados em seu modelo.\n",
        "\n",
        "O TensorFlow possui um sistema interno para descrever conversões de entrada comuns: `tf.feature_column`, consulte este tutorial para detalhes.\n",
        "\n",
        "Você pode pré-processar seus dados usando qualquer ferramenta que desejar (como nltk ou sklearn) e apenas passar a saída processada para o TensorFlow.\n",
        "\n",
        "A principal vantagem de fazer o pré-processamento dentro do seu modelo é que, quando você exporta o modelo, ele inclui o pré-processamento. Dessa forma, você pode passar os dados brutos diretamente para o seu modelo."
      ],
      "metadata": {
        "id": "Uz3u-W9sHwPc"
      }
    },
    {
      "cell_type": "markdown",
      "source": [
        "**Dados contínuos**\n",
        "\n",
        "Se seus dados já estiverem em um formato numérico apropriado, você poderá compactá-los em um vetor antes de transmiti-los ao modelo:"
      ],
      "metadata": {
        "id": "KHxcnyKsH6ar"
      }
    },
    {
      "cell_type": "code",
      "source": [
        "SELECT_COLUMNS = ['survived', 'age', 'n_siblings_spouses', \n",
        "                  'parch', 'fare']"
      ],
      "metadata": {
        "id": "Gb1Kcl2E4cwK"
      },
      "execution_count": 21,
      "outputs": []
    },
    {
      "cell_type": "code",
      "source": [
        "DEFAULTS = [0, 0.0, 0.0, 0.0, 0.0]"
      ],
      "metadata": {
        "id": "YyJKwuL14cuV"
      },
      "execution_count": 22,
      "outputs": []
    },
    {
      "cell_type": "code",
      "source": [
        "temp_dataset = get_dataset(\n",
        "    file_path=train_file_path,\n",
        "    select_columns=SELECT_COLUMNS,\n",
        "    column_defaults=DEFAULTS\n",
        ")\n",
        "\n",
        "show_batch(dataset=temp_dataset)"
      ],
      "metadata": {
        "colab": {
          "base_uri": "https://localhost:8080/"
        },
        "id": "GaANymke4cqr",
        "outputId": "161482a6-64f1-4670-9fc1-476bcc3bcad6"
      },
      "execution_count": 23,
      "outputs": [
        {
          "output_type": "stream",
          "name": "stdout",
          "text": [
            "age                 : [56.  28.  28.  28.  30.  28.  11.  28.  28.  28.  28.  29.  28.  18.\n",
            " 28.  15.   7.  23.  28.  40.  16.  28.  35.  24.  51.  57.   4.  26.\n",
            " 28.  28.  24.  17.  19.   5.  22.  31.  35.  23.  50.  28.  24.  48.\n",
            " 22.  30.  38.  31.  18.  28.  58.  60.  28.  21.  47.  41.  30.  39.\n",
            " 28.  24.  29.  28.  47.  23.  28.  23.  20.5 18.  28.  28.  49.  30.5\n",
            "  4.  28.  36.  28.  34.  16.  25.  15.  22.  14.5 29.  50.  32.  35.\n",
            " 28.   1.  39.  16.  30.  42.   6.  28.  15.  22.  36.   9.  32.  28.\n",
            " 18.  16. ]\n",
            "n_siblings_spouses  : [0. 0. 0. 1. 0. 0. 1. 8. 0. 0. 0. 0. 0. 1. 0. 0. 0. 0. 1. 1. 4. 0. 1. 2.\n",
            " 0. 0. 1. 0. 1. 0. 0. 0. 1. 2. 0. 1. 0. 0. 0. 0. 0. 0. 0. 0. 0. 1. 0. 8.\n",
            " 0. 1. 0. 0. 0. 2. 0. 1. 0. 0. 1. 0. 0. 2. 3. 0. 0. 0. 0. 1. 1. 0. 1. 1.\n",
            " 1. 0. 0. 1. 1. 1. 0. 1. 1. 0. 0. 0. 0. 1. 1. 0. 0. 1. 0. 1. 1. 0. 0. 5.\n",
            " 0. 0. 0. 0.]\n",
            "parch               : [0. 0. 0. 0. 0. 0. 2. 2. 0. 0. 0. 0. 0. 0. 0. 0. 2. 0. 0. 1. 1. 0. 0. 0.\n",
            " 0. 0. 1. 0. 0. 0. 0. 0. 0. 1. 0. 1. 0. 1. 0. 0. 2. 0. 0. 0. 0. 0. 2. 2.\n",
            " 0. 0. 2. 0. 0. 0. 0. 1. 0. 0. 0. 0. 0. 1. 1. 0. 0. 0. 0. 1. 0. 0. 1. 0.\n",
            " 0. 0. 0. 3. 0. 0. 0. 0. 0. 0. 0. 0. 0. 2. 1. 0. 0. 0. 1. 0. 1. 1. 0. 2.\n",
            " 0. 0. 1. 0.]\n",
            "fare                : [ 26.55    7.896  13.863 146.521   7.225   7.896 120.     69.55    7.796\n",
            "   8.05   26.55    7.775  35.5    17.8     7.896   7.225  26.25   13.792\n",
            "  24.     39.     39.688   7.896  90.     24.15   26.55   10.5    23.\n",
            "  56.496  19.967  31.      8.05   12.     26.     19.258   7.125  20.525\n",
            "  10.5    63.358  28.712   7.75   14.5    26.55    9.35  106.425  13.\n",
            "  18.     13.     69.55   29.7    75.25    7.75    8.433  25.587  14.108\n",
            "  93.5    79.65    7.312   7.142  21.     13.     52.     11.5    25.467\n",
            "   7.896   7.25    7.796   8.113  15.246  89.104   8.05   16.7    15.5\n",
            "  78.85  110.883  10.5    34.375  91.079  14.454   7.775  14.454   7.046\n",
            "  13.      7.896   7.05    7.229  20.575  83.158  10.5    12.475  52.\n",
            "  33.      7.75    7.229  55.    135.633  46.9    10.5     7.229   9.35\n",
            "   8.05 ]\n"
          ]
        }
      ]
    },
    {
      "cell_type": "code",
      "source": [
        "example_batch, labels_batch = next(iter(temp_dataset))"
      ],
      "metadata": {
        "id": "eKDi19NT4co-"
      },
      "execution_count": 24,
      "outputs": []
    },
    {
      "cell_type": "markdown",
      "source": [
        "Aqui está uma função simples que agrupará todas as colunas:"
      ],
      "metadata": {
        "id": "9nlgczgaIA-I"
      }
    },
    {
      "cell_type": "code",
      "source": [
        "def pack(features:str, label:str) -> str:\n",
        "    return tf.stack(list(features.values()), axis=1), label"
      ],
      "metadata": {
        "id": "Miww4bPT4cmH"
      },
      "execution_count": 25,
      "outputs": []
    },
    {
      "cell_type": "markdown",
      "source": [
        "Aplique isso a cada elemento do conjunto de dados:"
      ],
      "metadata": {
        "id": "6f0PMJ97IEFo"
      }
    },
    {
      "cell_type": "code",
      "source": [
        "packed_dataset = temp_dataset.map(pack)\n",
        "\n",
        "for features, labels in packed_dataset.take(1):\n",
        "    print(features.numpy())\n",
        "    print()\n",
        "    print(labels.numpy())"
      ],
      "metadata": {
        "colab": {
          "base_uri": "https://localhost:8080/"
        },
        "id": "zxgUiSMM4ck4",
        "outputId": "501c8a3a-21df-4600-d23c-53959e2327ee"
      },
      "execution_count": 26,
      "outputs": [
        {
          "output_type": "stream",
          "name": "stdout",
          "text": [
            "[[ 39.      1.      1.     83.158]\n",
            " [ 47.      1.      0.     14.5  ]\n",
            " [ 32.      0.      0.      7.75 ]\n",
            " [ 28.      0.      0.      7.25 ]\n",
            " [ 37.      1.      0.     26.   ]\n",
            " [ 15.      1.      1.      7.229]\n",
            " [ 24.      0.      0.      7.496]\n",
            " [ 55.5     0.      0.      8.05 ]\n",
            " [  2.      0.      1.     12.288]\n",
            " [ 36.      0.      0.      0.   ]\n",
            " [ 18.      0.      0.      7.775]\n",
            " [ 28.      0.      0.     56.496]\n",
            " [  2.      4.      1.     29.125]\n",
            " [ 18.      0.      0.      8.3  ]\n",
            " [ 28.      0.      0.     33.   ]\n",
            " [ 25.      1.      0.     17.8  ]\n",
            " [ 26.      0.      0.     18.788]\n",
            " [ 80.      0.      0.     30.   ]\n",
            " [ 22.      0.      0.     10.517]\n",
            " [ 28.      2.      0.     23.25 ]\n",
            " [ 44.      1.      0.     26.   ]\n",
            " [ 28.      0.      0.     35.5  ]\n",
            " [  2.      4.      1.     39.688]\n",
            " [ 30.      1.      0.     24.   ]\n",
            " [ 58.      0.      0.     29.7  ]\n",
            " [ 17.      0.      0.     12.   ]\n",
            " [ 22.      0.      0.      7.896]\n",
            " [ 51.      0.      0.     26.55 ]\n",
            " [ 45.      1.      0.     83.475]\n",
            " [ 30.      0.      0.     13.   ]\n",
            " [ 25.      1.      0.     26.   ]\n",
            " [ 70.      1.      1.     71.   ]\n",
            " [ 63.      0.      0.      9.587]\n",
            " [ 21.      2.      2.    262.375]\n",
            " [ 47.      0.      0.     38.5  ]\n",
            " [ 32.5     0.      0.     13.   ]\n",
            " [  9.      3.      2.     27.9  ]\n",
            " [ 28.      0.      0.      7.896]\n",
            " [ 28.      0.      0.      7.879]\n",
            " [ 26.      0.      0.      7.896]\n",
            " [ 27.      0.      0.      8.663]\n",
            " [ 11.      4.      2.     31.275]\n",
            " [ 28.      0.      0.      7.896]\n",
            " [ 29.      1.      0.     21.   ]\n",
            " [ 48.      0.      0.     26.55 ]\n",
            " [ 29.      1.      0.     66.6  ]\n",
            " [ 14.      1.      2.    120.   ]\n",
            " [ 42.      0.      0.      7.55 ]\n",
            " [ 32.      0.      0.      7.925]\n",
            " [ 28.      0.      0.      7.896]\n",
            " [ 26.      0.      0.      8.05 ]\n",
            " [ 36.      0.      0.     40.125]\n",
            " [ 17.      0.      0.      8.663]\n",
            " [ 35.      0.      0.      7.125]\n",
            " [ 20.      0.      0.      9.5  ]\n",
            " [ 24.      2.      0.     24.15 ]\n",
            " [ 24.      1.      2.     65.   ]\n",
            " [ 35.      1.      0.     83.475]\n",
            " [ 60.      1.      1.     39.   ]\n",
            " [ 39.      0.      0.     24.15 ]\n",
            " [ 25.      1.      1.     30.   ]\n",
            " [ 47.      0.      0.      7.25 ]\n",
            " [  9.      4.      2.     31.275]\n",
            " [ 48.      0.      0.      7.854]\n",
            " [ 31.      1.      0.    113.275]\n",
            " [  7.      4.      1.     29.125]\n",
            " [ 33.      0.      0.      8.654]\n",
            " [ 30.      0.      0.      7.896]\n",
            " [ 15.      0.      0.      7.225]\n",
            " [ 27.      0.      0.     26.   ]\n",
            " [ 28.      0.      2.     22.358]\n",
            " [ 48.      1.      0.     52.   ]\n",
            " [ 24.      0.      0.      7.142]\n",
            " [ 64.      1.      4.    263.   ]\n",
            " [ 23.      0.      0.     15.046]\n",
            " [ 28.      0.      0.     47.1  ]\n",
            " [ 40.5     0.      2.     14.5  ]\n",
            " [ 38.      1.      5.     31.388]\n",
            " [ 50.      1.      0.     55.9  ]\n",
            " [ 32.      0.      0.      7.925]\n",
            " [ 19.      1.      0.     26.   ]\n",
            " [  4.      0.      2.     22.025]\n",
            " [ 28.      0.      0.     13.863]\n",
            " [ 60.      1.      1.     79.2  ]\n",
            " [  5.      0.      0.     12.475]\n",
            " [ 51.      0.      0.     12.525]\n",
            " [ 28.      0.      0.      7.75 ]\n",
            " [ 30.5     0.      0.      8.05 ]\n",
            " [ 35.      1.      1.     20.25 ]\n",
            " [ 45.      1.      1.    164.867]\n",
            " [ 28.      0.      0.     31.   ]\n",
            " [  5.      2.      1.     19.258]\n",
            " [ 36.      1.      2.    120.   ]\n",
            " [ 22.      0.      2.     49.5  ]\n",
            " [ 35.      0.      0.     26.   ]\n",
            " [ 39.      1.      5.     31.275]\n",
            " [ 47.      0.      0.     52.   ]\n",
            " [ 22.      0.      0.    151.55 ]\n",
            " [ 43.      0.      0.      8.05 ]\n",
            " [ 19.      1.      0.      7.854]]\n",
            "\n",
            "[1 0 0 0 0 0 0 0 1 0 0 0 0 0 1 0 1 1 0 1 0 1 0 0 0 1 0 1 0 0 0 0 1 1 0 1 0\n",
            " 0 1 0 1 0 0 0 1 0 1 0 0 0 0 0 0 0 0 0 1 1 0 0 1 0 0 0 1 0 0 0 1 0 1 1 1 0\n",
            " 0 0 0 1 0 0 1 1 1 1 1 0 0 0 1 1 0 1 1 1 0 0 0 1 0 1]\n"
          ]
        }
      ]
    },
    {
      "cell_type": "markdown",
      "source": [
        "Se você tiver tipos de dados mistos, poderá separar esses campos numéricos simples. A API `tf.feature_column` pode lidar com eles, mas isso gera alguma sobrecarga e deve ser evitado, a menos que seja realmente necessário. Volte para o conjunto de dados misto:"
      ],
      "metadata": {
        "id": "6Jh-On-YIIWr"
      }
    },
    {
      "cell_type": "code",
      "source": [
        "show_batch(raw_train_data)"
      ],
      "metadata": {
        "colab": {
          "base_uri": "https://localhost:8080/"
        },
        "id": "NuzUNa264cjf",
        "outputId": "fac91cc4-b197-476c-e340-b99ff0487873"
      },
      "execution_count": 27,
      "outputs": [
        {
          "output_type": "stream",
          "name": "stdout",
          "text": [
            "sex                 : [b'female' b'male' b'male' b'male' b'female' b'male' b'male' b'male'\n",
            " b'male' b'male' b'male' b'male' b'male' b'female' b'male' b'female'\n",
            " b'female' b'male' b'female' b'female' b'male' b'female' b'male' b'male'\n",
            " b'female' b'male' b'female' b'male' b'male' b'female' b'male' b'female'\n",
            " b'male' b'male' b'male' b'male' b'male' b'female' b'female' b'female'\n",
            " b'female' b'male' b'male' b'male' b'male' b'female' b'male' b'male'\n",
            " b'male' b'male' b'male' b'male' b'female' b'female' b'male' b'female'\n",
            " b'male' b'male' b'male' b'male' b'male' b'male' b'female' b'male'\n",
            " b'female' b'male' b'male' b'male' b'male' b'female' b'male' b'male'\n",
            " b'male' b'female' b'female' b'female' b'female' b'female' b'female'\n",
            " b'male' b'male' b'female' b'male' b'female' b'female' b'male' b'female'\n",
            " b'male' b'male' b'female' b'female' b'female' b'female' b'male' b'female'\n",
            " b'female' b'male' b'male' b'male' b'male']\n",
            "age                 : [28.   39.   28.   30.   28.   28.   28.   23.   47.   28.   31.   30.\n",
            " 47.   28.   23.   16.   28.   28.   28.   28.   28.   28.   61.   28.\n",
            " 29.   20.   18.    9.   60.   28.   35.   30.   28.   40.   28.   50.\n",
            " 41.   19.    0.75 28.   17.   28.   28.    3.   11.   36.   31.   23.\n",
            " 28.   28.   28.   28.    5.   36.   26.   24.   36.   48.   17.   18.\n",
            " 28.   28.   31.   28.   38.   24.   33.   45.   20.   18.   30.   17.\n",
            " 18.    2.   35.   60.   28.   26.   30.   21.   28.   27.   35.   45.\n",
            " 22.   28.   23.   36.   28.   28.   30.   24.   24.   36.   34.   41.\n",
            " 36.   20.   21.   49.  ]\n",
            "n_siblings_spouses  : [1 0 0 0 0 0 0 0 0 1 0 0 0 0 0 0 0 1 0 0 0 0 0 8 1 0 0 5 1 1 0 0 0 0 0 1 0\n",
            " 0 2 2 1 0 0 4 0 0 1 2 0 0 0 0 0 1 0 0 0 1 0 0 0 0 0 1 1 1 0 0 0 1 0 0 0 1\n",
            " 1 1 3 0 0 0 0 1 0 1 0 1 0 0 0 0 0 0 0 0 1 0 0 0 0 1]\n",
            "parch               : [0 0 1 0 0 0 0 1 0 0 0 0 0 0 0 1 0 2 0 0 0 0 0 2 0 0 0 2 1 0 0 0 0 0 0 0 0\n",
            " 2 1 0 0 0 0 2 0 0 0 1 0 0 0 0 0 0 0 0 1 0 0 0 0 0 2 0 5 0 0 0 0 0 0 0 0 1\n",
            " 0 0 1 0 0 1 0 0 0 1 1 0 0 0 0 0 0 2 2 0 1 1 0 0 0 0]\n",
            "fare                : [ 89.104  26.     33.      7.896  13.      0.      7.896  63.358   9.\n",
            "  15.5    10.5     7.229  34.021   7.896   7.854  39.4    12.35   23.45\n",
            "   8.05    7.225  35.5    33.     32.321  69.55   26.      9.846   9.842\n",
            "  46.9    79.2    24.15   26.55   93.5     7.75    7.896   8.05  106.425\n",
            "   7.125  26.283  19.258  23.25  108.9     6.858   7.896  31.388  18.788\n",
            " 135.633  57.     11.5     7.75    0.      7.896   0.     12.475  17.4\n",
            "   8.05   49.504 512.329  52.      8.663   7.775   0.      7.896 164.867\n",
            "  82.171  31.388  16.1     5.      6.975   7.05   17.8    13.      7.125\n",
            "   7.796  26.     90.     75.25   25.467  78.85   12.475  77.287  26.55\n",
            "  21.      7.896 164.867  55.     15.5     7.925  12.875   7.25    7.75\n",
            " 106.425  16.7    14.5     0.     32.5    19.5     7.496   9.5     7.925\n",
            "  89.104]\n",
            "class               : [b'First' b'Second' b'Second' b'Third' b'Second' b'Second' b'Third'\n",
            " b'First' b'Third' b'Third' b'Second' b'Third' b'First' b'Third' b'Third'\n",
            " b'First' b'Second' b'Third' b'Third' b'Third' b'First' b'Second' b'First'\n",
            " b'Third' b'Second' b'Third' b'Third' b'Third' b'First' b'Third' b'First'\n",
            " b'First' b'Third' b'Third' b'Third' b'First' b'Third' b'First' b'Third'\n",
            " b'Third' b'First' b'Third' b'Third' b'Third' b'Third' b'First' b'First'\n",
            " b'Second' b'Third' b'Second' b'Third' b'Second' b'Third' b'Third'\n",
            " b'Third' b'First' b'First' b'First' b'Third' b'Third' b'Second' b'Third'\n",
            " b'First' b'First' b'Third' b'Third' b'First' b'Third' b'Third' b'Third'\n",
            " b'Second' b'Third' b'Third' b'Second' b'First' b'First' b'Third' b'First'\n",
            " b'Third' b'First' b'First' b'Second' b'Third' b'First' b'First' b'Third'\n",
            " b'Third' b'Second' b'Third' b'Third' b'First' b'Third' b'Second' b'Third'\n",
            " b'Second' b'Second' b'Third' b'Third' b'Third' b'First']\n",
            "deck                : [b'C' b'unknown' b'unknown' b'unknown' b'unknown' b'unknown' b'unknown'\n",
            " b'D' b'unknown' b'unknown' b'unknown' b'unknown' b'D' b'unknown'\n",
            " b'unknown' b'D' b'E' b'unknown' b'unknown' b'unknown' b'C' b'unknown'\n",
            " b'D' b'unknown' b'unknown' b'unknown' b'unknown' b'unknown' b'B'\n",
            " b'unknown' b'unknown' b'B' b'unknown' b'unknown' b'unknown' b'C'\n",
            " b'unknown' b'D' b'unknown' b'unknown' b'C' b'unknown' b'unknown'\n",
            " b'unknown' b'unknown' b'C' b'B' b'unknown' b'unknown' b'unknown'\n",
            " b'unknown' b'unknown' b'unknown' b'unknown' b'unknown' b'C' b'B' b'C'\n",
            " b'unknown' b'unknown' b'unknown' b'unknown' b'C' b'unknown' b'unknown'\n",
            " b'unknown' b'B' b'unknown' b'unknown' b'unknown' b'unknown' b'unknown'\n",
            " b'unknown' b'unknown' b'C' b'D' b'unknown' b'unknown' b'unknown' b'D'\n",
            " b'C' b'unknown' b'unknown' b'unknown' b'E' b'unknown' b'unknown' b'D'\n",
            " b'unknown' b'unknown' b'unknown' b'G' b'unknown' b'unknown' b'unknown'\n",
            " b'unknown' b'unknown' b'unknown' b'unknown' b'C']\n",
            "embark_town         : [b'Cherbourg' b'Southampton' b'Southampton' b'Southampton' b'Southampton'\n",
            " b'Southampton' b'Southampton' b'Cherbourg' b'Southampton' b'Queenstown'\n",
            " b'Southampton' b'Cherbourg' b'Southampton' b'Southampton' b'Southampton'\n",
            " b'Southampton' b'Queenstown' b'Southampton' b'Southampton' b'Cherbourg'\n",
            " b'Southampton' b'Southampton' b'Southampton' b'Southampton'\n",
            " b'Southampton' b'Southampton' b'Southampton' b'Southampton' b'Cherbourg'\n",
            " b'Queenstown' b'Cherbourg' b'Southampton' b'Queenstown' b'Southampton'\n",
            " b'Southampton' b'Cherbourg' b'Southampton' b'Southampton' b'Cherbourg'\n",
            " b'Queenstown' b'Cherbourg' b'Queenstown' b'Cherbourg' b'Southampton'\n",
            " b'Cherbourg' b'Cherbourg' b'Southampton' b'Southampton' b'Queenstown'\n",
            " b'Southampton' b'Southampton' b'Southampton' b'Southampton'\n",
            " b'Southampton' b'Southampton' b'Cherbourg' b'Cherbourg' b'Southampton'\n",
            " b'Southampton' b'Southampton' b'Southampton' b'Southampton'\n",
            " b'Southampton' b'Cherbourg' b'Southampton' b'Southampton' b'Southampton'\n",
            " b'Southampton' b'Southampton' b'Southampton' b'Southampton'\n",
            " b'Southampton' b'Southampton' b'Southampton' b'Southampton' b'Cherbourg'\n",
            " b'Southampton' b'Southampton' b'Southampton' b'Southampton'\n",
            " b'Southampton' b'Southampton' b'Cherbourg' b'Southampton' b'Southampton'\n",
            " b'Queenstown' b'Southampton' b'Cherbourg' b'Southampton' b'Queenstown'\n",
            " b'Cherbourg' b'Southampton' b'Southampton' b'Southampton' b'Southampton'\n",
            " b'Southampton' b'Southampton' b'Southampton' b'Southampton' b'Cherbourg']\n",
            "alone               : [b'n' b'y' b'n' b'y' b'y' b'y' b'y' b'n' b'y' b'n' b'y' b'y' b'y' b'y'\n",
            " b'y' b'n' b'y' b'n' b'y' b'y' b'y' b'y' b'y' b'n' b'n' b'y' b'y' b'n'\n",
            " b'n' b'n' b'y' b'y' b'y' b'y' b'y' b'n' b'y' b'n' b'n' b'n' b'n' b'y'\n",
            " b'y' b'n' b'y' b'y' b'n' b'n' b'y' b'y' b'y' b'y' b'y' b'n' b'y' b'y'\n",
            " b'n' b'n' b'y' b'y' b'y' b'y' b'n' b'n' b'n' b'n' b'y' b'y' b'y' b'n'\n",
            " b'y' b'y' b'y' b'n' b'n' b'n' b'n' b'y' b'y' b'n' b'y' b'n' b'y' b'n'\n",
            " b'n' b'n' b'y' b'y' b'y' b'y' b'y' b'n' b'n' b'y' b'n' b'n' b'y' b'y'\n",
            " b'y' b'n']\n"
          ]
        }
      ]
    },
    {
      "cell_type": "code",
      "source": [
        "example_batch, labels_batch = next(iter(temp_dataset))"
      ],
      "metadata": {
        "id": "I4BNM7N64ch9"
      },
      "execution_count": 28,
      "outputs": []
    },
    {
      "cell_type": "markdown",
      "source": [
        "Portanto, defina um _pré-processador_ mais geral que selecione uma lista de recursos numéricos e os agrupe em uma única coluna:"
      ],
      "metadata": {
        "id": "wF2ugWNEIRWg"
      }
    },
    {
      "cell_type": "code",
      "source": [
        "class PackNumericFeatures(object):\n",
        "    def __init__(self, names:str):\n",
        "        self.names = names\n",
        "\n",
        "    def __call__(self, features:str, labels:str):\n",
        "        numeric_features = [features.pop(name) for name in self.names]\n",
        "        numeric_features = [tf.cast(feat, tf.float32) for feat in numeric_features]\n",
        "        numeric_features = tf.stack(numeric_features, axis=-1)\n",
        "\n",
        "        features['numeric'] = numeric_features\n",
        "        return features, labels"
      ],
      "metadata": {
        "id": "jwIsOrDQ4cb3"
      },
      "execution_count": 29,
      "outputs": []
    },
    {
      "cell_type": "code",
      "source": [
        "NUMERIC_FEATURES = ['age', 'n_siblings_spouses', 'parch', 'fare']\n",
        "\n",
        "packed_train_data = raw_train_data.map(\n",
        "    PackNumericFeatures(NUMERIC_FEATURES)\n",
        ")\n",
        "\n",
        "packed_test_data = raw_test_data.map(\n",
        "    PackNumericFeatures(NUMERIC_FEATURES)\n",
        ")"
      ],
      "metadata": {
        "id": "8H69XCQp4cY-"
      },
      "execution_count": 30,
      "outputs": []
    },
    {
      "cell_type": "code",
      "source": [
        "show_batch(packed_train_data)"
      ],
      "metadata": {
        "colab": {
          "base_uri": "https://localhost:8080/"
        },
        "id": "LRWJ8esmp-9w",
        "outputId": "0b8fa824-006e-431e-bb5f-45e28e7ca577"
      },
      "execution_count": 31,
      "outputs": [
        {
          "output_type": "stream",
          "name": "stdout",
          "text": [
            "sex                 : [b'female' b'male' b'male' b'female' b'male' b'male' b'male' b'male'\n",
            " b'male' b'male' b'female' b'male' b'male' b'male' b'male' b'male' b'male'\n",
            " b'male' b'female' b'male' b'female' b'female' b'male' b'female' b'male'\n",
            " b'female' b'male' b'male' b'male' b'female' b'female' b'female' b'female'\n",
            " b'female' b'male' b'male' b'male' b'male' b'male' b'female' b'female'\n",
            " b'male' b'male' b'male' b'female' b'female' b'male' b'female' b'female'\n",
            " b'female' b'male' b'male' b'male' b'male' b'female' b'female' b'male'\n",
            " b'male' b'male' b'male' b'female' b'female' b'female' b'female' b'male'\n",
            " b'male' b'male' b'male' b'female' b'male' b'male' b'male' b'female'\n",
            " b'male' b'female' b'female' b'male' b'male' b'male' b'female' b'male'\n",
            " b'male' b'female' b'male' b'female' b'male' b'male' b'male' b'female'\n",
            " b'female' b'male' b'male' b'female' b'female' b'male' b'male' b'male'\n",
            " b'male' b'female' b'male']\n",
            "class               : [b'Third' b'Third' b'Third' b'First' b'Third' b'Third' b'Second' b'First'\n",
            " b'Second' b'Third' b'First' b'First' b'Second' b'Second' b'First'\n",
            " b'Third' b'Third' b'Third' b'Third' b'Third' b'Third' b'First' b'Third'\n",
            " b'Second' b'Third' b'Third' b'Second' b'First' b'First' b'First' b'First'\n",
            " b'Third' b'Third' b'Third' b'Third' b'Third' b'Third' b'Third' b'Third'\n",
            " b'Third' b'Third' b'First' b'Third' b'Third' b'Third' b'Third' b'First'\n",
            " b'Second' b'Second' b'Second' b'Third' b'Third' b'Third' b'Third'\n",
            " b'Second' b'First' b'Third' b'First' b'Second' b'Third' b'Third' b'First'\n",
            " b'Second' b'Third' b'Third' b'Third' b'First' b'Third' b'Third' b'Second'\n",
            " b'Second' b'Second' b'Second' b'First' b'Second' b'Third' b'Third'\n",
            " b'Second' b'Third' b'Third' b'Third' b'First' b'Third' b'Third' b'First'\n",
            " b'Second' b'Third' b'Third' b'Second' b'First' b'Third' b'Third' b'Third'\n",
            " b'Second' b'Third' b'Third' b'First' b'First' b'First' b'Second']\n",
            "deck                : [b'unknown' b'unknown' b'unknown' b'C' b'unknown' b'unknown' b'unknown'\n",
            " b'unknown' b'unknown' b'unknown' b'unknown' b'B' b'unknown' b'unknown'\n",
            " b'B' b'unknown' b'unknown' b'unknown' b'unknown' b'unknown' b'unknown'\n",
            " b'C' b'unknown' b'unknown' b'unknown' b'unknown' b'unknown' b'C' b'B'\n",
            " b'D' b'B' b'unknown' b'G' b'unknown' b'unknown' b'unknown' b'unknown'\n",
            " b'unknown' b'unknown' b'unknown' b'unknown' b'A' b'unknown' b'unknown'\n",
            " b'unknown' b'unknown' b'unknown' b'E' b'unknown' b'unknown' b'unknown'\n",
            " b'unknown' b'unknown' b'unknown' b'unknown' b'C' b'unknown' b'B'\n",
            " b'unknown' b'unknown' b'unknown' b'A' b'unknown' b'unknown' b'unknown'\n",
            " b'unknown' b'D' b'unknown' b'unknown' b'unknown' b'unknown' b'unknown'\n",
            " b'unknown' b'E' b'unknown' b'unknown' b'unknown' b'unknown' b'unknown'\n",
            " b'unknown' b'unknown' b'C' b'unknown' b'unknown' b'B' b'unknown'\n",
            " b'unknown' b'unknown' b'E' b'C' b'unknown' b'unknown' b'unknown'\n",
            " b'unknown' b'unknown' b'unknown' b'C' b'C' b'E' b'unknown']\n",
            "embark_town         : [b'Southampton' b'Southampton' b'Southampton' b'Southampton'\n",
            " b'Southampton' b'Southampton' b'Southampton' b'Southampton'\n",
            " b'Southampton' b'Southampton' b'Southampton' b'Cherbourg' b'Cherbourg'\n",
            " b'Southampton' b'Southampton' b'Southampton' b'Southampton'\n",
            " b'Southampton' b'Southampton' b'Queenstown' b'Southampton' b'Cherbourg'\n",
            " b'Southampton' b'Southampton' b'Queenstown' b'Queenstown' b'Southampton'\n",
            " b'Southampton' b'Cherbourg' b'Cherbourg' b'Cherbourg' b'Southampton'\n",
            " b'Southampton' b'Southampton' b'Southampton' b'Southampton' b'Queenstown'\n",
            " b'Queenstown' b'Southampton' b'Southampton' b'Southampton' b'Cherbourg'\n",
            " b'Southampton' b'Southampton' b'Cherbourg' b'Cherbourg' b'Southampton'\n",
            " b'Queenstown' b'Southampton' b'Southampton' b'Southampton' b'Southampton'\n",
            " b'Southampton' b'Southampton' b'Southampton' b'Cherbourg' b'Southampton'\n",
            " b'Southampton' b'Southampton' b'Southampton' b'Queenstown' b'Cherbourg'\n",
            " b'Southampton' b'Queenstown' b'Southampton' b'Southampton' b'Southampton'\n",
            " b'Southampton' b'Queenstown' b'Southampton' b'Southampton' b'Southampton'\n",
            " b'Southampton' b'Southampton' b'Cherbourg' b'Queenstown' b'Southampton'\n",
            " b'Southampton' b'Southampton' b'Southampton' b'Southampton'\n",
            " b'Southampton' b'Southampton' b'Southampton' b'Cherbourg' b'Southampton'\n",
            " b'Southampton' b'Southampton' b'Southampton' b'Southampton' b'Cherbourg'\n",
            " b'Southampton' b'Queenstown' b'Southampton' b'Southampton' b'Southampton'\n",
            " b'Southampton' b'Southampton' b'Cherbourg' b'Southampton']\n",
            "alone               : [b'y' b'y' b'y' b'n' b'y' b'y' b'n' b'y' b'n' b'y' b'n' b'n' b'n' b'y'\n",
            " b'y' b'y' b'n' b'y' b'y' b'n' b'n' b'y' b'y' b'y' b'y' b'y' b'y' b'n'\n",
            " b'y' b'n' b'n' b'n' b'n' b'n' b'y' b'y' b'y' b'y' b'n' b'n' b'n' b'y'\n",
            " b'y' b'y' b'y' b'n' b'y' b'y' b'y' b'y' b'n' b'n' b'y' b'n' b'y' b'n'\n",
            " b'y' b'n' b'y' b'n' b'y' b'n' b'y' b'y' b'y' b'y' b'y' b'y' b'y' b'n'\n",
            " b'y' b'y' b'n' b'y' b'n' b'n' b'y' b'n' b'n' b'y' b'y' b'y' b'y' b'y'\n",
            " b'n' b'y' b'n' b'n' b'y' b'n' b'y' b'y' b'y' b'n' b'y' b'y' b'n' b'y'\n",
            " b'n' b'y']\n",
            "numeric             : [[ 30.      0.      0.     12.475]\n",
            " [ 18.      0.      0.      7.796]\n",
            " [ 61.      0.      0.      6.238]\n",
            " [ 23.      3.      2.    263.   ]\n",
            " [ 20.      0.      0.      8.05 ]\n",
            " [ 32.      0.      0.      7.925]\n",
            " [ 29.      1.      0.     21.   ]\n",
            " [ 45.      0.      0.     35.5  ]\n",
            " [ 36.      1.      2.     27.75 ]\n",
            " [ 25.      0.      0.      7.896]\n",
            " [ 28.      1.      0.    133.65 ]\n",
            " [ 24.      0.      1.    247.521]\n",
            " [ 32.5     1.      0.     30.071]\n",
            " [ 28.      0.      0.      0.   ]\n",
            " [ 33.      0.      0.      5.   ]\n",
            " [ 32.      0.      0.     56.496]\n",
            " [ 32.      1.      0.     15.85 ]\n",
            " [ 30.      0.      0.      7.896]\n",
            " [ 30.      0.      0.      8.663]\n",
            " [  7.      4.      1.     29.125]\n",
            " [ 27.      0.      2.     11.133]\n",
            " [ 24.      0.      0.     49.504]\n",
            " [ 28.      0.      0.      7.854]\n",
            " [ 35.      0.      0.     21.   ]\n",
            " [ 32.      0.      0.      7.75 ]\n",
            " [ 28.      0.      0.      7.733]\n",
            " [ 16.      0.      0.     10.5  ]\n",
            " [ 64.      1.      4.    263.   ]\n",
            " [ 35.      0.      0.    512.329]\n",
            " [ 23.      1.      0.    113.275]\n",
            " [ 28.      1.      0.    146.521]\n",
            " [ 35.      1.      1.     20.25 ]\n",
            " [  2.      0.      1.     10.462]\n",
            " [ 17.      4.      2.      7.925]\n",
            " [ 25.      0.      0.      0.   ]\n",
            " [ 23.      0.      0.      7.896]\n",
            " [ 28.      0.      0.      6.95 ]\n",
            " [ 70.5     0.      0.      7.75 ]\n",
            " [  2.      4.      1.     39.688]\n",
            " [  9.      2.      2.     34.375]\n",
            " [ 19.      1.      0.      7.854]\n",
            " [ 36.      0.      0.     40.125]\n",
            " [ 47.      0.      0.      9.   ]\n",
            " [ 22.      0.      0.      9.35 ]\n",
            " [ 28.      0.      0.      7.229]\n",
            " [  5.      2.      1.     19.258]\n",
            " [ 60.      0.      0.     26.55 ]\n",
            " [ 28.      0.      0.     12.35 ]\n",
            " [ 24.      0.      0.     13.   ]\n",
            " [ 32.      0.      0.     13.   ]\n",
            " [ 18.      1.      1.     20.212]\n",
            " [  4.      4.      2.     31.275]\n",
            " [ 17.      0.      0.      8.663]\n",
            " [  7.      4.      1.     39.688]\n",
            " [ 21.      0.      0.     10.5  ]\n",
            " [ 28.      1.      0.     89.104]\n",
            " [ 20.      0.      0.      7.854]\n",
            " [ 11.      1.      2.    120.   ]\n",
            " [ 25.      0.      0.     13.   ]\n",
            " [  3.      4.      2.     31.388]\n",
            " [ 16.      0.      0.      7.75 ]\n",
            " [ 48.      1.      0.     39.6  ]\n",
            " [ 40.      0.      0.     13.   ]\n",
            " [ 28.      0.      0.      7.75 ]\n",
            " [ 25.      0.      0.      7.05 ]\n",
            " [ 24.      0.      0.      7.142]\n",
            " [ 29.      0.      0.     30.   ]\n",
            " [ 28.      0.      0.      8.05 ]\n",
            " [ 28.      0.      0.      7.75 ]\n",
            " [ 34.      1.      0.     21.   ]\n",
            " [ 34.      0.      0.     13.   ]\n",
            " [ 30.      0.      0.     13.   ]\n",
            " [ 48.      1.      2.     65.   ]\n",
            " [ 51.      0.      0.     26.55 ]\n",
            " [ 22.      1.      2.     41.579]\n",
            " [ 28.      1.      0.     24.15 ]\n",
            " [ 33.      0.      0.      7.775]\n",
            " [ 28.      0.      1.     33.   ]\n",
            " [ 18.      1.      0.      6.496]\n",
            " [ 28.      0.      0.      7.896]\n",
            " [ 24.      0.      0.      7.496]\n",
            " [ 28.      0.      0.    221.779]\n",
            " [ 23.      0.      0.      7.925]\n",
            " [ 21.      0.      0.      8.433]\n",
            " [ 21.      2.      2.    262.375]\n",
            " [ 18.      0.      0.     73.5  ]\n",
            " [ 24.      1.      0.     16.1  ]\n",
            " [ 28.      1.      0.     15.85 ]\n",
            " [ 57.      0.      0.     10.5  ]\n",
            " [ 35.      1.      0.     90.   ]\n",
            " [ 20.      0.      0.      7.229]\n",
            " [ 21.      0.      0.      7.796]\n",
            " [ 28.      0.      0.      7.879]\n",
            " [ 22.      1.      1.     29.   ]\n",
            " [ 28.      0.      0.      7.896]\n",
            " [ 30.5     0.      0.      8.05 ]\n",
            " [ 19.      3.      2.    263.   ]\n",
            " [ 28.      0.      0.     30.5  ]\n",
            " [ 39.      1.      1.     83.158]\n",
            " [ 59.      0.      0.     13.5  ]]\n"
          ]
        }
      ]
    },
    {
      "cell_type": "code",
      "source": [
        "example_batch, labels_batch = next(iter(packed_train_data))"
      ],
      "metadata": {
        "id": "JM1OgEHDp-5q"
      },
      "execution_count": 32,
      "outputs": []
    },
    {
      "cell_type": "markdown",
      "source": [
        "**Normalização dos dados**\n",
        "\n",
        "Dados contínuos sempre devem ser normalizados."
      ],
      "metadata": {
        "id": "KhjscT8oEt3l"
      }
    },
    {
      "cell_type": "code",
      "source": [
        "import pandas as pd"
      ],
      "metadata": {
        "id": "2ObBh9fGp-2r"
      },
      "execution_count": 33,
      "outputs": []
    },
    {
      "cell_type": "code",
      "source": [
        "desc = pd.read_csv(filepath_or_buffer=train_file_path)[NUMERIC_FEATURES].describe()"
      ],
      "metadata": {
        "id": "CFj9sTgLp-1U"
      },
      "execution_count": 34,
      "outputs": []
    },
    {
      "cell_type": "code",
      "source": [
        "desc.T"
      ],
      "metadata": {
        "colab": {
          "base_uri": "https://localhost:8080/",
          "height": 175
        },
        "id": "56GYMMEKp-yw",
        "outputId": "4bb6ec6f-9d4c-4051-dc57-9f26eb11f458"
      },
      "execution_count": 35,
      "outputs": [
        {
          "output_type": "execute_result",
          "data": {
            "text/plain": [
              "                    count       mean        std   min      25%      50%  \\\n",
              "age                 627.0  29.631308  12.511818  0.75  23.0000  28.0000   \n",
              "n_siblings_spouses  627.0   0.545455   1.151090  0.00   0.0000   0.0000   \n",
              "parch               627.0   0.379585   0.792999  0.00   0.0000   0.0000   \n",
              "fare                627.0  34.385399  54.597730  0.00   7.8958  15.0458   \n",
              "\n",
              "                        75%       max  \n",
              "age                 35.0000   80.0000  \n",
              "n_siblings_spouses   1.0000    8.0000  \n",
              "parch                0.0000    5.0000  \n",
              "fare                31.3875  512.3292  "
            ],
            "text/html": [
              "\n",
              "  <div id=\"df-ba3fbc93-074c-4555-b99d-d595feea7a4b\">\n",
              "    <div class=\"colab-df-container\">\n",
              "      <div>\n",
              "<style scoped>\n",
              "    .dataframe tbody tr th:only-of-type {\n",
              "        vertical-align: middle;\n",
              "    }\n",
              "\n",
              "    .dataframe tbody tr th {\n",
              "        vertical-align: top;\n",
              "    }\n",
              "\n",
              "    .dataframe thead th {\n",
              "        text-align: right;\n",
              "    }\n",
              "</style>\n",
              "<table border=\"1\" class=\"dataframe\">\n",
              "  <thead>\n",
              "    <tr style=\"text-align: right;\">\n",
              "      <th></th>\n",
              "      <th>count</th>\n",
              "      <th>mean</th>\n",
              "      <th>std</th>\n",
              "      <th>min</th>\n",
              "      <th>25%</th>\n",
              "      <th>50%</th>\n",
              "      <th>75%</th>\n",
              "      <th>max</th>\n",
              "    </tr>\n",
              "  </thead>\n",
              "  <tbody>\n",
              "    <tr>\n",
              "      <th>age</th>\n",
              "      <td>627.0</td>\n",
              "      <td>29.631308</td>\n",
              "      <td>12.511818</td>\n",
              "      <td>0.75</td>\n",
              "      <td>23.0000</td>\n",
              "      <td>28.0000</td>\n",
              "      <td>35.0000</td>\n",
              "      <td>80.0000</td>\n",
              "    </tr>\n",
              "    <tr>\n",
              "      <th>n_siblings_spouses</th>\n",
              "      <td>627.0</td>\n",
              "      <td>0.545455</td>\n",
              "      <td>1.151090</td>\n",
              "      <td>0.00</td>\n",
              "      <td>0.0000</td>\n",
              "      <td>0.0000</td>\n",
              "      <td>1.0000</td>\n",
              "      <td>8.0000</td>\n",
              "    </tr>\n",
              "    <tr>\n",
              "      <th>parch</th>\n",
              "      <td>627.0</td>\n",
              "      <td>0.379585</td>\n",
              "      <td>0.792999</td>\n",
              "      <td>0.00</td>\n",
              "      <td>0.0000</td>\n",
              "      <td>0.0000</td>\n",
              "      <td>0.0000</td>\n",
              "      <td>5.0000</td>\n",
              "    </tr>\n",
              "    <tr>\n",
              "      <th>fare</th>\n",
              "      <td>627.0</td>\n",
              "      <td>34.385399</td>\n",
              "      <td>54.597730</td>\n",
              "      <td>0.00</td>\n",
              "      <td>7.8958</td>\n",
              "      <td>15.0458</td>\n",
              "      <td>31.3875</td>\n",
              "      <td>512.3292</td>\n",
              "    </tr>\n",
              "  </tbody>\n",
              "</table>\n",
              "</div>\n",
              "      <button class=\"colab-df-convert\" onclick=\"convertToInteractive('df-ba3fbc93-074c-4555-b99d-d595feea7a4b')\"\n",
              "              title=\"Convert this dataframe to an interactive table.\"\n",
              "              style=\"display:none;\">\n",
              "        \n",
              "  <svg xmlns=\"http://www.w3.org/2000/svg\" height=\"24px\"viewBox=\"0 0 24 24\"\n",
              "       width=\"24px\">\n",
              "    <path d=\"M0 0h24v24H0V0z\" fill=\"none\"/>\n",
              "    <path d=\"M18.56 5.44l.94 2.06.94-2.06 2.06-.94-2.06-.94-.94-2.06-.94 2.06-2.06.94zm-11 1L8.5 8.5l.94-2.06 2.06-.94-2.06-.94L8.5 2.5l-.94 2.06-2.06.94zm10 10l.94 2.06.94-2.06 2.06-.94-2.06-.94-.94-2.06-.94 2.06-2.06.94z\"/><path d=\"M17.41 7.96l-1.37-1.37c-.4-.4-.92-.59-1.43-.59-.52 0-1.04.2-1.43.59L10.3 9.45l-7.72 7.72c-.78.78-.78 2.05 0 2.83L4 21.41c.39.39.9.59 1.41.59.51 0 1.02-.2 1.41-.59l7.78-7.78 2.81-2.81c.8-.78.8-2.07 0-2.86zM5.41 20L4 18.59l7.72-7.72 1.47 1.35L5.41 20z\"/>\n",
              "  </svg>\n",
              "      </button>\n",
              "      \n",
              "  <style>\n",
              "    .colab-df-container {\n",
              "      display:flex;\n",
              "      flex-wrap:wrap;\n",
              "      gap: 12px;\n",
              "    }\n",
              "\n",
              "    .colab-df-convert {\n",
              "      background-color: #E8F0FE;\n",
              "      border: none;\n",
              "      border-radius: 50%;\n",
              "      cursor: pointer;\n",
              "      display: none;\n",
              "      fill: #1967D2;\n",
              "      height: 32px;\n",
              "      padding: 0 0 0 0;\n",
              "      width: 32px;\n",
              "    }\n",
              "\n",
              "    .colab-df-convert:hover {\n",
              "      background-color: #E2EBFA;\n",
              "      box-shadow: 0px 1px 2px rgba(60, 64, 67, 0.3), 0px 1px 3px 1px rgba(60, 64, 67, 0.15);\n",
              "      fill: #174EA6;\n",
              "    }\n",
              "\n",
              "    [theme=dark] .colab-df-convert {\n",
              "      background-color: #3B4455;\n",
              "      fill: #D2E3FC;\n",
              "    }\n",
              "\n",
              "    [theme=dark] .colab-df-convert:hover {\n",
              "      background-color: #434B5C;\n",
              "      box-shadow: 0px 1px 3px 1px rgba(0, 0, 0, 0.15);\n",
              "      filter: drop-shadow(0px 1px 2px rgba(0, 0, 0, 0.3));\n",
              "      fill: #FFFFFF;\n",
              "    }\n",
              "  </style>\n",
              "\n",
              "      <script>\n",
              "        const buttonEl =\n",
              "          document.querySelector('#df-ba3fbc93-074c-4555-b99d-d595feea7a4b button.colab-df-convert');\n",
              "        buttonEl.style.display =\n",
              "          google.colab.kernel.accessAllowed ? 'block' : 'none';\n",
              "\n",
              "        async function convertToInteractive(key) {\n",
              "          const element = document.querySelector('#df-ba3fbc93-074c-4555-b99d-d595feea7a4b');\n",
              "          const dataTable =\n",
              "            await google.colab.kernel.invokeFunction('convertToInteractive',\n",
              "                                                     [key], {});\n",
              "          if (!dataTable) return;\n",
              "\n",
              "          const docLinkHtml = 'Like what you see? Visit the ' +\n",
              "            '<a target=\"_blank\" href=https://colab.research.google.com/notebooks/data_table.ipynb>data table notebook</a>'\n",
              "            + ' to learn more about interactive tables.';\n",
              "          element.innerHTML = '';\n",
              "          dataTable['output_type'] = 'display_data';\n",
              "          await google.colab.output.renderOutput(dataTable, element);\n",
              "          const docLink = document.createElement('div');\n",
              "          docLink.innerHTML = docLinkHtml;\n",
              "          element.appendChild(docLink);\n",
              "        }\n",
              "      </script>\n",
              "    </div>\n",
              "  </div>\n",
              "  "
            ]
          },
          "metadata": {},
          "execution_count": 35
        }
      ]
    },
    {
      "cell_type": "code",
      "source": [
        "MEAN = np.array(desc.T['mean'])\n",
        "\n",
        "STD = np.array(desc.T['std'])"
      ],
      "metadata": {
        "id": "6iewO0CEp-xo"
      },
      "execution_count": 36,
      "outputs": []
    },
    {
      "cell_type": "code",
      "source": [
        "MEAN"
      ],
      "metadata": {
        "colab": {
          "base_uri": "https://localhost:8080/"
        },
        "id": "3rRclggAp-wd",
        "outputId": "10ac5ed1-e403-4de3-b5f4-811d195afae7"
      },
      "execution_count": 37,
      "outputs": [
        {
          "output_type": "execute_result",
          "data": {
            "text/plain": [
              "array([29.631,  0.545,  0.38 , 34.385])"
            ]
          },
          "metadata": {},
          "execution_count": 37
        }
      ]
    },
    {
      "cell_type": "code",
      "source": [
        "STD"
      ],
      "metadata": {
        "colab": {
          "base_uri": "https://localhost:8080/"
        },
        "id": "J4FhNqPrp-q3",
        "outputId": "e1cc4b5b-7601-4db0-fc72-596dd296f479"
      },
      "execution_count": 38,
      "outputs": [
        {
          "output_type": "execute_result",
          "data": {
            "text/plain": [
              "array([12.512,  1.151,  0.793, 54.598])"
            ]
          },
          "metadata": {},
          "execution_count": 38
        }
      ]
    },
    {
      "cell_type": "code",
      "source": [
        "def normalize_numeric_data(data:str, mean:eval, std:eval):\n",
        "    return (data-mean) / std"
      ],
      "metadata": {
        "id": "BlvQ6h6Ip-nm"
      },
      "execution_count": 39,
      "outputs": []
    },
    {
      "cell_type": "markdown",
      "source": [
        "Agora crie uma coluna numérica. A API `tf.feature_columns.numeric_column` aceita um argumento `normalizer_fn`, que será executado em cada lote.\n",
        "\n",
        "Ligue o `MEAN` e o `STD` ao normalizador fn usando `functools.partial`\n",
        "\n",
        "\n"
      ],
      "metadata": {
        "id": "UXwEOd5VIhbM"
      }
    },
    {
      "cell_type": "code",
      "source": [
        "normalizer = functools.partial(\n",
        "    normalize_numeric_data,\n",
        "    mean=MEAN,\n",
        "    std=STD\n",
        ")"
      ],
      "metadata": {
        "id": "1wQr6HKsp-mS"
      },
      "execution_count": 40,
      "outputs": []
    },
    {
      "cell_type": "code",
      "source": [
        "numeric_column = tf.feature_column.numeric_column('numeric', \n",
        "                                                  normalizer_fn=normalizer,\n",
        "                                                  shape=[len(NUMERIC_FEATURES)])\n",
        "\n",
        "numeric_column"
      ],
      "metadata": {
        "colab": {
          "base_uri": "https://localhost:8080/"
        },
        "id": "tWO50jnkp-i5",
        "outputId": "9e439ad8-5057-4d9f-c33f-def848f30e35"
      },
      "execution_count": 41,
      "outputs": [
        {
          "output_type": "execute_result",
          "data": {
            "text/plain": [
              "NumericColumn(key='numeric', shape=(4,), default_value=None, dtype=tf.float32, normalizer_fn=functools.partial(<function normalize_numeric_data at 0x7f4174400700>, mean=array([29.631,  0.545,  0.38 , 34.385]), std=array([12.512,  1.151,  0.793, 54.598])))"
            ]
          },
          "metadata": {},
          "execution_count": 41
        }
      ]
    },
    {
      "cell_type": "code",
      "source": [
        "numeric_columns = [numeric_column]"
      ],
      "metadata": {
        "id": "BPgl0kqkp-gp"
      },
      "execution_count": 42,
      "outputs": []
    },
    {
      "cell_type": "markdown",
      "source": [
        "Ao treinar o modelo, inclua esta coluna de característica para selecionar e centralizar este bloco de dados numéricos:\n",
        "\n",
        "\n"
      ],
      "metadata": {
        "id": "3mivxWFMI3Vl"
      }
    },
    {
      "cell_type": "code",
      "source": [
        "example_batch['numeric']"
      ],
      "metadata": {
        "colab": {
          "base_uri": "https://localhost:8080/"
        },
        "id": "8jfHcSTpp-fd",
        "outputId": "d90d6e2b-abe1-4f44-a4bd-e27229a6ba93"
      },
      "execution_count": 43,
      "outputs": [
        {
          "output_type": "execute_result",
          "data": {
            "text/plain": [
              "<tf.Tensor: shape=(100, 4), dtype=float32, numpy=\n",
              "array([[ 28.   ,   1.   ,   0.   ,  15.85 ],\n",
              "       [ 19.   ,   0.   ,   0.   ,   0.   ],\n",
              "       [ 22.   ,   0.   ,   0.   ,   7.775],\n",
              "       [ 28.   ,   0.   ,   0.   ,   7.75 ],\n",
              "       [ 34.   ,   0.   ,   0.   ,  10.5  ],\n",
              "       [ 19.   ,   1.   ,   0.   ,   7.854],\n",
              "       [ 66.   ,   0.   ,   0.   ,  10.5  ],\n",
              "       [ 28.   ,   3.   ,   1.   ,  25.467],\n",
              "       [ 33.   ,   0.   ,   0.   ,   9.5  ],\n",
              "       [  3.   ,   1.   ,   2.   ,  41.579],\n",
              "       [ 28.   ,   0.   ,   0.   ,   7.896],\n",
              "       [  2.   ,   3.   ,   1.   ,  21.075],\n",
              "       [ 47.   ,   0.   ,   0.   ,  34.021],\n",
              "       [ 16.   ,   0.   ,   0.   ,  26.   ],\n",
              "       [ 28.   ,   0.   ,   0.   ,   8.05 ],\n",
              "       [  4.   ,   3.   ,   2.   ,  27.9  ],\n",
              "       [ 24.   ,   2.   ,   3.   ,  18.75 ],\n",
              "       [ 41.   ,   0.   ,   5.   ,  39.688],\n",
              "       [ 17.   ,   0.   ,   0.   ,   7.125],\n",
              "       [ 30.   ,   0.   ,   0.   ,   7.896],\n",
              "       [ 18.   ,   0.   ,   0.   ,   7.775],\n",
              "       [ 14.   ,   5.   ,   2.   ,  46.9  ],\n",
              "       [ 18.   ,   1.   ,   0.   , 108.9  ],\n",
              "       [ 28.   ,   0.   ,   0.   ,   7.896],\n",
              "       [  9.   ,   2.   ,   2.   ,  34.375],\n",
              "       [ 20.5  ,   0.   ,   0.   ,   7.25 ],\n",
              "       [  6.   ,   0.   ,   1.   ,  33.   ],\n",
              "       [ 28.   ,   0.   ,   0.   ,   7.75 ],\n",
              "       [ 28.   ,   0.   ,   0.   ,  13.   ],\n",
              "       [ 28.   ,   1.   ,   0.   ,  51.862],\n",
              "       [ 36.   ,   0.   ,   1.   , 512.329],\n",
              "       [ 36.   ,   0.   ,   0.   ,  13.   ],\n",
              "       [ 28.   ,   0.   ,   0.   ,   7.879],\n",
              "       [ 26.   ,   0.   ,   0.   ,  56.496],\n",
              "       [ 29.   ,   0.   ,   0.   , 211.337],\n",
              "       [ 22.   ,   0.   ,   1.   ,  55.   ],\n",
              "       [ 47.   ,   0.   ,   0.   ,   9.   ],\n",
              "       [ 59.   ,   0.   ,   0.   ,   7.25 ],\n",
              "       [ 31.   ,   1.   ,   0.   ,  52.   ],\n",
              "       [ 22.   ,   0.   ,   0.   ,  10.517],\n",
              "       [ 31.   ,   0.   ,   2.   , 164.867],\n",
              "       [ 18.   ,   0.   ,   1.   ,   9.35 ],\n",
              "       [ 26.   ,   0.   ,   0.   ,   7.925],\n",
              "       [ 19.   ,   3.   ,   2.   , 263.   ],\n",
              "       [ 31.   ,   1.   ,   0.   ,  57.   ],\n",
              "       [ 55.5  ,   0.   ,   0.   ,   8.05 ],\n",
              "       [ 28.   ,   3.   ,   1.   ,  25.467],\n",
              "       [ 28.   ,   0.   ,   0.   ,   7.75 ],\n",
              "       [ 14.   ,   1.   ,   0.   ,  30.071],\n",
              "       [ 28.   ,   0.   ,   0.   ,   7.896],\n",
              "       [ 30.   ,   0.   ,   0.   ,  56.929],\n",
              "       [ 25.   ,   0.   ,   0.   ,   7.05 ],\n",
              "       [ 35.   ,   0.   ,   0.   ,   7.05 ],\n",
              "       [ 18.   ,   1.   ,   0.   ,   6.496],\n",
              "       [ 25.   ,   0.   ,   0.   ,   7.05 ],\n",
              "       [ 27.   ,   0.   ,   0.   ,  76.729],\n",
              "       [ 35.   ,   0.   ,   0.   ,  26.55 ],\n",
              "       [ 49.   ,   1.   ,   1.   , 110.883],\n",
              "       [ 17.   ,   0.   ,   0.   ,   8.663],\n",
              "       [ 28.   ,   0.   ,   0.   ,   0.   ],\n",
              "       [ 35.   ,   0.   ,   0.   ,   8.05 ],\n",
              "       [ 25.   ,   1.   ,   0.   ,  91.079],\n",
              "       [ 11.   ,   0.   ,   0.   ,  18.788],\n",
              "       [ 40.   ,   0.   ,   0.   ,  13.   ],\n",
              "       [ 25.   ,   1.   ,   1.   ,  30.   ],\n",
              "       [ 32.   ,   1.   ,   0.   ,  15.85 ],\n",
              "       [ 36.   ,   0.   ,   0.   ,   7.896],\n",
              "       [ 28.   ,   0.   ,   0.   ,  30.696],\n",
              "       [ 35.   ,   1.   ,   0.   ,  53.1  ],\n",
              "       [ 36.   ,   0.   ,   0.   ,  40.125],\n",
              "       [ 28.   ,   8.   ,   2.   ,  69.55 ],\n",
              "       [ 25.   ,   1.   ,   0.   ,   7.775],\n",
              "       [ 28.   ,   0.   ,   0.   ,   7.775],\n",
              "       [ 28.   ,   0.   ,   0.   ,   7.854],\n",
              "       [ 40.   ,   0.   ,   0.   ,   0.   ],\n",
              "       [ 28.   ,   0.   ,   0.   ,   7.55 ],\n",
              "       [ 28.   ,   0.   ,   0.   ,  13.   ],\n",
              "       [  7.   ,   0.   ,   2.   ,  26.25 ],\n",
              "       [ 30.   ,   0.   ,   0.   ,  13.   ],\n",
              "       [ 28.   ,   1.   ,   1.   ,  15.246],\n",
              "       [  7.   ,   4.   ,   1.   ,  39.688],\n",
              "       [ 33.   ,   1.   ,   0.   ,  53.1  ],\n",
              "       [ 24.   ,   1.   ,   0.   ,  26.   ],\n",
              "       [ 24.   ,   0.   ,   1.   , 247.521],\n",
              "       [ 38.   ,   0.   ,   0.   , 227.525],\n",
              "       [ 34.   ,   1.   ,   0.   ,  21.   ],\n",
              "       [ 17.   ,   1.   ,   0.   , 108.9  ],\n",
              "       [ 35.   ,   1.   ,   1.   ,  20.25 ],\n",
              "       [ 58.   ,   0.   ,   1.   , 153.462],\n",
              "       [ 28.   ,   0.   ,   0.   ,  13.863],\n",
              "       [ 31.   ,   0.   ,   0.   ,  50.496],\n",
              "       [ 25.   ,   0.   ,   0.   ,   7.65 ],\n",
              "       [ 35.   ,   0.   ,   0.   ,  21.   ],\n",
              "       [ 21.   ,   0.   ,   0.   ,   8.433],\n",
              "       [ 28.   ,   0.   ,   0.   ,   7.896],\n",
              "       [ 24.   ,   0.   ,   0.   ,   7.142],\n",
              "       [ 28.   ,   0.   ,   0.   ,   7.896],\n",
              "       [ 39.   ,   1.   ,   1.   ,  79.65 ],\n",
              "       [ 28.   ,   0.   ,   0.   ,   7.775],\n",
              "       [ 32.   ,   0.   ,   0.   ,   8.05 ]], dtype=float32)>"
            ]
          },
          "metadata": {},
          "execution_count": 43
        }
      ]
    },
    {
      "cell_type": "code",
      "source": [
        "numeric_layer = tf.keras.layers.DenseFeatures(numeric_columns)\n",
        "\n",
        "numeric_layer(example_batch).numpy()"
      ],
      "metadata": {
        "colab": {
          "base_uri": "https://localhost:8080/"
        },
        "id": "rXBGBdJDp-ec",
        "outputId": "1a098f5e-3adc-4b2f-8968-c3f1b9359556"
      },
      "execution_count": 44,
      "outputs": [
        {
          "output_type": "execute_result",
          "data": {
            "text/plain": [
              "array([[-0.13 ,  0.395, -0.479, -0.339],\n",
              "       [-0.85 , -0.474, -0.479, -0.63 ],\n",
              "       [-0.61 , -0.474, -0.479, -0.487],\n",
              "       [-0.13 , -0.474, -0.479, -0.488],\n",
              "       [ 0.349, -0.474, -0.479, -0.437],\n",
              "       [-0.85 ,  0.395, -0.479, -0.486],\n",
              "       [ 2.907, -0.474, -0.479, -0.437],\n",
              "       [-0.13 ,  2.132,  0.782, -0.163],\n",
              "       [ 0.269, -0.474, -0.479, -0.456],\n",
              "       [-2.128,  0.395,  2.043,  0.132],\n",
              "       [-0.13 , -0.474, -0.479, -0.485],\n",
              "       [-2.208,  2.132,  0.782, -0.244],\n",
              "       [ 1.388, -0.474, -0.479, -0.007],\n",
              "       [-1.089, -0.474, -0.479, -0.154],\n",
              "       [-0.13 , -0.474, -0.479, -0.482],\n",
              "       [-2.049,  2.132,  2.043, -0.119],\n",
              "       [-0.45 ,  1.264,  3.304, -0.286],\n",
              "       [ 0.909, -0.474,  5.827,  0.097],\n",
              "       [-1.01 , -0.474, -0.479, -0.499],\n",
              "       [ 0.029, -0.474, -0.479, -0.485],\n",
              "       [-0.93 , -0.474, -0.479, -0.487],\n",
              "       [-1.249,  3.87 ,  2.043,  0.229],\n",
              "       [-0.93 ,  0.395, -0.479,  1.365],\n",
              "       [-0.13 , -0.474, -0.479, -0.485],\n",
              "       [-1.649,  1.264,  2.043, -0.   ],\n",
              "       [-0.73 , -0.474, -0.479, -0.497],\n",
              "       [-1.889, -0.474,  0.782, -0.025],\n",
              "       [-0.13 , -0.474, -0.479, -0.488],\n",
              "       [-0.13 , -0.474, -0.479, -0.392],\n",
              "       [-0.13 ,  0.395, -0.479,  0.32 ],\n",
              "       [ 0.509, -0.474,  0.782,  8.754],\n",
              "       [ 0.509, -0.474, -0.479, -0.392],\n",
              "       [-0.13 , -0.474, -0.479, -0.485],\n",
              "       [-0.29 , -0.474, -0.479,  0.405],\n",
              "       [-0.05 , -0.474, -0.479,  3.241],\n",
              "       [-0.61 , -0.474,  0.782,  0.378],\n",
              "       [ 1.388, -0.474, -0.479, -0.465],\n",
              "       [ 2.347, -0.474, -0.479, -0.497],\n",
              "       [ 0.109,  0.395, -0.479,  0.323],\n",
              "       [-0.61 , -0.474, -0.479, -0.437],\n",
              "       [ 0.109, -0.474,  2.043,  2.39 ],\n",
              "       [-0.93 , -0.474,  0.782, -0.459],\n",
              "       [-0.29 , -0.474, -0.479, -0.485],\n",
              "       [-0.85 ,  2.132,  2.043,  4.187],\n",
              "       [ 0.109,  0.395, -0.479,  0.414],\n",
              "       [ 2.068, -0.474, -0.479, -0.482],\n",
              "       [-0.13 ,  2.132,  0.782, -0.163],\n",
              "       [-0.13 , -0.474, -0.479, -0.488],\n",
              "       [-1.249,  0.395, -0.479, -0.079],\n",
              "       [-0.13 , -0.474, -0.479, -0.485],\n",
              "       [ 0.029, -0.474, -0.479,  0.413],\n",
              "       [-0.37 , -0.474, -0.479, -0.501],\n",
              "       [ 0.429, -0.474, -0.479, -0.501],\n",
              "       [-0.93 ,  0.395, -0.479, -0.511],\n",
              "       [-0.37 , -0.474, -0.479, -0.501],\n",
              "       [-0.21 , -0.474, -0.479,  0.776],\n",
              "       [ 0.429, -0.474, -0.479, -0.144],\n",
              "       [ 1.548,  0.395,  0.782,  1.401],\n",
              "       [-1.01 , -0.474, -0.479, -0.471],\n",
              "       [-0.13 , -0.474, -0.479, -0.63 ],\n",
              "       [ 0.429, -0.474, -0.479, -0.482],\n",
              "       [-0.37 ,  0.395, -0.479,  1.038],\n",
              "       [-1.489, -0.474, -0.479, -0.286],\n",
              "       [ 0.829, -0.474, -0.479, -0.392],\n",
              "       [-0.37 ,  0.395,  0.782, -0.08 ],\n",
              "       [ 0.189,  0.395, -0.479, -0.339],\n",
              "       [ 0.509, -0.474, -0.479, -0.485],\n",
              "       [-0.13 , -0.474, -0.479, -0.068],\n",
              "       [ 0.429,  0.395, -0.479,  0.343],\n",
              "       [ 0.509, -0.474, -0.479,  0.105],\n",
              "       [-0.13 ,  6.476,  2.043,  0.644],\n",
              "       [-0.37 ,  0.395, -0.479, -0.487],\n",
              "       [-0.13 , -0.474, -0.479, -0.487],\n",
              "       [-0.13 , -0.474, -0.479, -0.486],\n",
              "       [ 0.829, -0.474, -0.479, -0.63 ],\n",
              "       [-0.13 , -0.474, -0.479, -0.492],\n",
              "       [-0.13 , -0.474, -0.479, -0.392],\n",
              "       [-1.809, -0.474,  2.043, -0.149],\n",
              "       [ 0.029, -0.474, -0.479, -0.392],\n",
              "       [-0.13 ,  0.395,  0.782, -0.351],\n",
              "       [-1.809,  3.001,  0.782,  0.097],\n",
              "       [ 0.269,  0.395, -0.479,  0.343],\n",
              "       [-0.45 ,  0.395, -0.479, -0.154],\n",
              "       [-0.45 , -0.474,  0.782,  3.904],\n",
              "       [ 0.669, -0.474, -0.479,  3.538],\n",
              "       [ 0.349,  0.395, -0.479, -0.245],\n",
              "       [-1.01 ,  0.395, -0.479,  1.365],\n",
              "       [ 0.429,  0.395,  0.782, -0.259],\n",
              "       [ 2.267, -0.474,  0.782,  2.181],\n",
              "       [-0.13 , -0.474, -0.479, -0.376],\n",
              "       [ 0.109, -0.474, -0.479,  0.295],\n",
              "       [-0.37 , -0.474, -0.479, -0.49 ],\n",
              "       [ 0.429, -0.474, -0.479, -0.245],\n",
              "       [-0.69 , -0.474, -0.479, -0.475],\n",
              "       [-0.13 , -0.474, -0.479, -0.485],\n",
              "       [-0.45 , -0.474, -0.479, -0.499],\n",
              "       [-0.13 , -0.474, -0.479, -0.485],\n",
              "       [ 0.749,  0.395,  0.782,  0.829],\n",
              "       [-0.13 , -0.474, -0.479, -0.487],\n",
              "       [ 0.189, -0.474, -0.479, -0.482]], dtype=float32)"
            ]
          },
          "metadata": {},
          "execution_count": 44
        }
      ]
    },
    {
      "cell_type": "markdown",
      "source": [
        "A normalização baseada em média usada aqui requer conhecer os meios de cada coluna antes do tempo."
      ],
      "metadata": {
        "id": "8fypSOY4I8wD"
      }
    },
    {
      "cell_type": "markdown",
      "source": [
        "**Dados categóricos**\n",
        "\n",
        "Algumas das colunas nos dados CSV são colunas categóricas. Ou seja, o conteúdo deve ser um dentre um conjunto limitado de opções.\n",
        "\n",
        "Use a API `tf.feature_column` para criar uma coleção com uma `tf.feature_column.indicator_column` para cada coluna categórica.\n",
        "\n"
      ],
      "metadata": {
        "id": "CzlWhbF6FMbk"
      }
    },
    {
      "cell_type": "code",
      "source": [
        "CATEGORIES = {\n",
        "    'sex': ['male', 'female'],\n",
        "    'class': ['First', 'Second', 'Third'],\n",
        "    'deck': ['A', 'B', 'C', 'D', 'E', 'F', 'G', 'H', 'I', 'J'],\n",
        "    'embark_town': ['Cherbourg', 'Southhampton', 'Queenstown'],\n",
        "    'alone': ['y', 'n']\n",
        "}\n",
        "\n",
        "CATEGORIES "
      ],
      "metadata": {
        "colab": {
          "base_uri": "https://localhost:8080/"
        },
        "id": "anh-L8Eop-di",
        "outputId": "99a333e3-4593-458f-d184-703c3eeb6917"
      },
      "execution_count": 45,
      "outputs": [
        {
          "output_type": "execute_result",
          "data": {
            "text/plain": [
              "{'sex': ['male', 'female'],\n",
              " 'class': ['First', 'Second', 'Third'],\n",
              " 'deck': ['A', 'B', 'C', 'D', 'E', 'F', 'G', 'H', 'I', 'J'],\n",
              " 'embark_town': ['Cherbourg', 'Southhampton', 'Queenstown'],\n",
              " 'alone': ['y', 'n']}"
            ]
          },
          "metadata": {},
          "execution_count": 45
        }
      ]
    },
    {
      "cell_type": "code",
      "source": [
        "('A B C D E F G H I J').split()"
      ],
      "metadata": {
        "colab": {
          "base_uri": "https://localhost:8080/"
        },
        "id": "T-rW-q2mTvzI",
        "outputId": "7cb91eb6-5951-47aa-9877-3118afbf64d0"
      },
      "execution_count": 46,
      "outputs": [
        {
          "output_type": "execute_result",
          "data": {
            "text/plain": [
              "['A', 'B', 'C', 'D', 'E', 'F', 'G', 'H', 'I', 'J']"
            ]
          },
          "metadata": {},
          "execution_count": 46
        }
      ]
    },
    {
      "cell_type": "code",
      "source": [
        "CATEGORIES = {\n",
        "    'sex': ('male female').split(),\n",
        "    'class': ('First Second Third').split(),\n",
        "    'deck': ('A B C D E F G H I J').split(),\n",
        "    'embark_town': ('Cherbourg Southhampton Queenstown').split(),\n",
        "    'alone': ('y n').split()\n",
        "}\n",
        "\n",
        "CATEGORIES"
      ],
      "metadata": {
        "colab": {
          "base_uri": "https://localhost:8080/"
        },
        "id": "Z7Bfn-f1p-XK",
        "outputId": "c5cabf68-8e28-44dd-9c34-8ea5a17909f1"
      },
      "execution_count": 47,
      "outputs": [
        {
          "output_type": "execute_result",
          "data": {
            "text/plain": [
              "{'sex': ['male', 'female'],\n",
              " 'class': ['First', 'Second', 'Third'],\n",
              " 'deck': ['A', 'B', 'C', 'D', 'E', 'F', 'G', 'H', 'I', 'J'],\n",
              " 'embark_town': ['Cherbourg', 'Southhampton', 'Queenstown'],\n",
              " 'alone': ['y', 'n']}"
            ]
          },
          "metadata": {},
          "execution_count": 47
        }
      ]
    },
    {
      "cell_type": "code",
      "source": [
        "categorical_columns = []\n",
        "\n",
        "for feature, vocab in CATEGORIES.items():\n",
        "    cat_col = tf.feature_column.categorical_column_with_vocabulary_list(\n",
        "        key=feature, vocabulary_list=vocab\n",
        "    )\n",
        "\n",
        "    categorical_columns.append(tf.feature_column.indicator_column(cat_col))"
      ],
      "metadata": {
        "id": "h7aue9hBp-U9"
      },
      "execution_count": 48,
      "outputs": []
    },
    {
      "cell_type": "code",
      "source": [
        "categorical_columns"
      ],
      "metadata": {
        "colab": {
          "base_uri": "https://localhost:8080/"
        },
        "id": "g46xafdUp-Px",
        "outputId": "7da22f77-64c5-413c-aa42-654a3def2ef9"
      },
      "execution_count": 49,
      "outputs": [
        {
          "output_type": "execute_result",
          "data": {
            "text/plain": [
              "[IndicatorColumn(categorical_column=VocabularyListCategoricalColumn(key='sex', vocabulary_list=('male', 'female'), dtype=tf.string, default_value=-1, num_oov_buckets=0)),\n",
              " IndicatorColumn(categorical_column=VocabularyListCategoricalColumn(key='class', vocabulary_list=('First', 'Second', 'Third'), dtype=tf.string, default_value=-1, num_oov_buckets=0)),\n",
              " IndicatorColumn(categorical_column=VocabularyListCategoricalColumn(key='deck', vocabulary_list=('A', 'B', 'C', 'D', 'E', 'F', 'G', 'H', 'I', 'J'), dtype=tf.string, default_value=-1, num_oov_buckets=0)),\n",
              " IndicatorColumn(categorical_column=VocabularyListCategoricalColumn(key='embark_town', vocabulary_list=('Cherbourg', 'Southhampton', 'Queenstown'), dtype=tf.string, default_value=-1, num_oov_buckets=0)),\n",
              " IndicatorColumn(categorical_column=VocabularyListCategoricalColumn(key='alone', vocabulary_list=('y', 'n'), dtype=tf.string, default_value=-1, num_oov_buckets=0))]"
            ]
          },
          "metadata": {},
          "execution_count": 49
        }
      ]
    },
    {
      "cell_type": "code",
      "source": [
        "categorical_layer = tf.keras.layers.DenseFeatures(categorical_columns)"
      ],
      "metadata": {
        "id": "-TJUJvpVp-Oi"
      },
      "execution_count": 50,
      "outputs": []
    },
    {
      "cell_type": "code",
      "source": [
        "print(categorical_layer(example_batch).numpy()[0])"
      ],
      "metadata": {
        "colab": {
          "base_uri": "https://localhost:8080/"
        },
        "id": "ypJjjo_Ip-LM",
        "outputId": "4a6eaf1b-2290-4ef7-a0d2-48d456d6b644"
      },
      "execution_count": 51,
      "outputs": [
        {
          "output_type": "stream",
          "name": "stdout",
          "text": [
            "[0. 1. 0. 0. 1. 0. 0. 0. 0. 0. 0. 0. 0. 0. 0. 0. 0. 0. 1. 0.]\n"
          ]
        }
      ]
    },
    {
      "cell_type": "markdown",
      "source": [
        "Isso fará parte de uma entrada de processamento de dados posteriormente, quando você construir o modelo.\n",
        "\n"
      ],
      "metadata": {
        "id": "TeC_-NJKJJYL"
      }
    },
    {
      "cell_type": "markdown",
      "source": [
        "**Camada combinada de pré-processamento**\n",
        "\n",
        "Adicione as duas coleções de colunas de recursos e passe-as para um `tf.keras.layers.DenseFeatures` para criar uma camada de entrada que extrairá e pré-processará os dois tipos de entrada:"
      ],
      "metadata": {
        "id": "tJEs4ubkJMa_"
      }
    },
    {
      "cell_type": "code",
      "source": [
        "preprocessing_layer = tf.keras.layers.DenseFeatures(categorical_columns + numeric_columns)"
      ],
      "metadata": {
        "id": "OX9W4m7ep-JJ"
      },
      "execution_count": 52,
      "outputs": []
    },
    {
      "cell_type": "code",
      "source": [
        "print(preprocessing_layer(example_batch).numpy()[0])"
      ],
      "metadata": {
        "colab": {
          "base_uri": "https://localhost:8080/"
        },
        "id": "h5UqQicEp-F0",
        "outputId": "acb8e4de-de90-433f-fa93-f13c986b7545"
      },
      "execution_count": 53,
      "outputs": [
        {
          "output_type": "stream",
          "name": "stdout",
          "text": [
            "[ 0.     1.     0.     0.     1.     0.     0.     0.     0.     0.\n",
            "  0.     0.     0.     0.     0.     0.     0.     0.    -0.13   0.395\n",
            " -0.479 -0.339  1.     0.   ]\n"
          ]
        }
      ]
    },
    {
      "cell_type": "markdown",
      "source": [
        "#### **4. Construir o modelo**"
      ],
      "metadata": {
        "id": "bdN_rM-bJam5"
      }
    },
    {
      "cell_type": "markdown",
      "source": [
        "Crie um `tf.keras.Sequential`, começando com o `preprocessing_layer`."
      ],
      "metadata": {
        "id": "GlJaWD8qJm8y"
      }
    },
    {
      "cell_type": "code",
      "source": [
        "model = tf.keras.Sequential([\n",
        "    preprocessing_layer, \n",
        "    tf.keras.layers.Dense(128, activation='relu'),\n",
        "    tf.keras.layers.Dense(128, activation='relu'),\n",
        "    tf.keras.layers.Dense(1)\n",
        "])"
      ],
      "metadata": {
        "id": "baPr5J6-p-DJ"
      },
      "execution_count": 54,
      "outputs": []
    },
    {
      "cell_type": "code",
      "source": [
        "model.compile(\n",
        "    loss=tf.keras.losses.BinaryCrossentropy(from_logits=True),\n",
        "    optimizer='adam',\n",
        "    metrics=['accuracy']\n",
        ")"
      ],
      "metadata": {
        "id": "uBLhSs-2cmA-"
      },
      "execution_count": 55,
      "outputs": []
    },
    {
      "cell_type": "markdown",
      "source": [
        "#### **5.Treinar, avaliar, e prever**\n"
      ],
      "metadata": {
        "id": "MZZRvfEyJx5f"
      }
    },
    {
      "cell_type": "markdown",
      "source": [
        "Agora o modelo pode ser instanciado e treinado."
      ],
      "metadata": {
        "id": "J9qFrn3eJ5tl"
      }
    },
    {
      "cell_type": "code",
      "source": [
        "train_data = packed_train_data.shuffle(500)\n",
        "test_data = packed_test_data"
      ],
      "metadata": {
        "id": "CdVxIl-2cl_z"
      },
      "execution_count": 56,
      "outputs": []
    },
    {
      "cell_type": "code",
      "source": [
        "model.fit(train_data, epochs=20, \n",
        "          validation_data=test_data)"
      ],
      "metadata": {
        "colab": {
          "base_uri": "https://localhost:8080/"
        },
        "id": "_N2mwx6ncl-t",
        "outputId": "5af06c10-c507-4f2b-9a79-4132e046ff78"
      },
      "execution_count": 57,
      "outputs": [
        {
          "output_type": "stream",
          "name": "stdout",
          "text": [
            "Epoch 1/20\n"
          ]
        },
        {
          "output_type": "stream",
          "name": "stderr",
          "text": [
            "WARNING:tensorflow:Layers in a Sequential model should only have a single input tensor. Received: inputs=OrderedDict([('sex', <tf.Tensor 'IteratorGetNext:5' shape=(None,) dtype=string>), ('class', <tf.Tensor 'IteratorGetNext:1' shape=(None,) dtype=string>), ('deck', <tf.Tensor 'IteratorGetNext:2' shape=(None,) dtype=string>), ('embark_town', <tf.Tensor 'IteratorGetNext:3' shape=(None,) dtype=string>), ('alone', <tf.Tensor 'IteratorGetNext:0' shape=(None,) dtype=string>), ('numeric', <tf.Tensor 'IteratorGetNext:4' shape=(None, 4) dtype=float32>)]). Consider rewriting this model with the Functional API.\n",
            "WARNING:tensorflow:Layers in a Sequential model should only have a single input tensor. Received: inputs=OrderedDict([('sex', <tf.Tensor 'IteratorGetNext:5' shape=(None,) dtype=string>), ('class', <tf.Tensor 'IteratorGetNext:1' shape=(None,) dtype=string>), ('deck', <tf.Tensor 'IteratorGetNext:2' shape=(None,) dtype=string>), ('embark_town', <tf.Tensor 'IteratorGetNext:3' shape=(None,) dtype=string>), ('alone', <tf.Tensor 'IteratorGetNext:0' shape=(None,) dtype=string>), ('numeric', <tf.Tensor 'IteratorGetNext:4' shape=(None, 4) dtype=float32>)]). Consider rewriting this model with the Functional API.\n"
          ]
        },
        {
          "output_type": "stream",
          "name": "stdout",
          "text": [
            "      6/Unknown - 3s 10ms/step - loss: 0.6318 - accuracy: 0.6186"
          ]
        },
        {
          "output_type": "stream",
          "name": "stderr",
          "text": [
            "WARNING:tensorflow:Layers in a Sequential model should only have a single input tensor. Received: inputs=OrderedDict([('sex', <tf.Tensor 'IteratorGetNext:5' shape=(None,) dtype=string>), ('class', <tf.Tensor 'IteratorGetNext:1' shape=(None,) dtype=string>), ('deck', <tf.Tensor 'IteratorGetNext:2' shape=(None,) dtype=string>), ('embark_town', <tf.Tensor 'IteratorGetNext:3' shape=(None,) dtype=string>), ('alone', <tf.Tensor 'IteratorGetNext:0' shape=(None,) dtype=string>), ('numeric', <tf.Tensor 'IteratorGetNext:4' shape=(None, 4) dtype=float32>)]). Consider rewriting this model with the Functional API.\n"
          ]
        },
        {
          "output_type": "stream",
          "name": "stdout",
          "text": [
            "\b\b\b\b\b\b\b\b\b\b\b\b\b\b\b\b\b\b\b\b\b\b\b\b\b\b\b\b\b\b\b\b\b\b\b\b\b\b\b\b\b\b\b\b\b\b\b\b\b\b\b\b\b\b\b\b\b\b\b\b\b\b\b\b\r7/7 [==============================] - 5s 453ms/step - loss: 0.6273 - accuracy: 0.6124 - val_loss: 0.5857 - val_accuracy: 0.6288\n",
            "Epoch 2/20\n",
            "7/7 [==============================] - 0s 53ms/step - loss: 0.5455 - accuracy: 0.6507 - val_loss: 0.5362 - val_accuracy: 0.6818\n",
            "Epoch 3/20\n",
            "7/7 [==============================] - 1s 66ms/step - loss: 0.4942 - accuracy: 0.7241 - val_loss: 0.4925 - val_accuracy: 0.7273\n",
            "Epoch 4/20\n",
            "7/7 [==============================] - 0s 33ms/step - loss: 0.4549 - accuracy: 0.7751 - val_loss: 0.4659 - val_accuracy: 0.7765\n",
            "Epoch 5/20\n",
            "7/7 [==============================] - 0s 43ms/step - loss: 0.4341 - accuracy: 0.7974 - val_loss: 0.4548 - val_accuracy: 0.8220\n",
            "Epoch 6/20\n",
            "7/7 [==============================] - 0s 38ms/step - loss: 0.4167 - accuracy: 0.8325 - val_loss: 0.4470 - val_accuracy: 0.7992\n",
            "Epoch 7/20\n",
            "7/7 [==============================] - 0s 45ms/step - loss: 0.4079 - accuracy: 0.8214 - val_loss: 0.4472 - val_accuracy: 0.7955\n",
            "Epoch 8/20\n",
            "7/7 [==============================] - 0s 26ms/step - loss: 0.4010 - accuracy: 0.8246 - val_loss: 0.4460 - val_accuracy: 0.7992\n",
            "Epoch 9/20\n",
            "7/7 [==============================] - 0s 48ms/step - loss: 0.3947 - accuracy: 0.8278 - val_loss: 0.4447 - val_accuracy: 0.7992\n",
            "Epoch 10/20\n",
            "7/7 [==============================] - 0s 48ms/step - loss: 0.3880 - accuracy: 0.8325 - val_loss: 0.4414 - val_accuracy: 0.8030\n",
            "Epoch 11/20\n",
            "7/7 [==============================] - 0s 43ms/step - loss: 0.3829 - accuracy: 0.8341 - val_loss: 0.4403 - val_accuracy: 0.8182\n",
            "Epoch 12/20\n",
            "7/7 [==============================] - 0s 33ms/step - loss: 0.3780 - accuracy: 0.8421 - val_loss: 0.4363 - val_accuracy: 0.8182\n",
            "Epoch 13/20\n",
            "7/7 [==============================] - 0s 29ms/step - loss: 0.3769 - accuracy: 0.8421 - val_loss: 0.4262 - val_accuracy: 0.8333\n",
            "Epoch 14/20\n",
            "7/7 [==============================] - 0s 39ms/step - loss: 0.3728 - accuracy: 0.8389 - val_loss: 0.4315 - val_accuracy: 0.8258\n",
            "Epoch 15/20\n",
            "7/7 [==============================] - 0s 33ms/step - loss: 0.3668 - accuracy: 0.8469 - val_loss: 0.4337 - val_accuracy: 0.8258\n",
            "Epoch 16/20\n",
            "7/7 [==============================] - 0s 33ms/step - loss: 0.3650 - accuracy: 0.8405 - val_loss: 0.4321 - val_accuracy: 0.8295\n",
            "Epoch 17/20\n",
            "7/7 [==============================] - 0s 32ms/step - loss: 0.3628 - accuracy: 0.8389 - val_loss: 0.4302 - val_accuracy: 0.8333\n",
            "Epoch 18/20\n",
            "7/7 [==============================] - 1s 58ms/step - loss: 0.3580 - accuracy: 0.8453 - val_loss: 0.4285 - val_accuracy: 0.8295\n",
            "Epoch 19/20\n",
            "7/7 [==============================] - 0s 47ms/step - loss: 0.3555 - accuracy: 0.8485 - val_loss: 0.4264 - val_accuracy: 0.8333\n",
            "Epoch 20/20\n",
            "7/7 [==============================] - 0s 31ms/step - loss: 0.3524 - accuracy: 0.8453 - val_loss: 0.4271 - val_accuracy: 0.8333\n"
          ]
        },
        {
          "output_type": "execute_result",
          "data": {
            "text/plain": [
              "<keras.callbacks.History at 0x7f41744eb070>"
            ]
          },
          "metadata": {},
          "execution_count": 57
        }
      ]
    },
    {
      "cell_type": "markdown",
      "source": [
        "Depois que o modelo é treinado, você pode verificar sua acurácia no conjunto `test_data`."
      ],
      "metadata": {
        "id": "_qKtu3roKD2Y"
      }
    },
    {
      "cell_type": "code",
      "source": [
        "test_loss, test_accuracy = model.evaluate(test_data)\n",
        "\n",
        "print('\\n\\nTest Loss: {} | Test Accuracy: {}'.format(test_loss, test_accuracy))"
      ],
      "metadata": {
        "colab": {
          "base_uri": "https://localhost:8080/"
        },
        "id": "EXQ-ZwiRcl1p",
        "outputId": "2b14ccf4-e67b-4556-d21b-0229953a296c"
      },
      "execution_count": 58,
      "outputs": [
        {
          "output_type": "stream",
          "name": "stdout",
          "text": [
            "3/3 [==============================] - 0s 32ms/step - loss: 0.4271 - accuracy: 0.8333\n",
            "\n",
            "\n",
            "Test Loss: 0.4270872473716736 | Test Accuracy: 0.8333333134651184\n"
          ]
        }
      ]
    },
    {
      "cell_type": "markdown",
      "source": [
        "Use `tf.keras.Model.predict` para inferir rótulos em um lote ou em um conjunto de dados de lotes."
      ],
      "metadata": {
        "id": "xrFwmIaTKKWh"
      }
    },
    {
      "cell_type": "code",
      "source": [
        "predictions = model.predict(test_data)\n",
        "\n",
        "for prediction, survived in zip(predictions[:10], list(test_data)[0][1][:10]):\n",
        "    print('Predicted survival: {:.2%}'.format(prediction[0]),\n",
        "          ' | Actual outcome: ',\n",
        "          ('SURVIVED' if bool(survived) else 'DIED'))"
      ],
      "metadata": {
        "colab": {
          "base_uri": "https://localhost:8080/"
        },
        "id": "kBt4et0Zclsr",
        "outputId": "fe2124ed-7d0c-4cc9-afbe-af7f7bab2d84"
      },
      "execution_count": 59,
      "outputs": [
        {
          "output_type": "stream",
          "name": "stderr",
          "text": [
            "WARNING:tensorflow:Layers in a Sequential model should only have a single input tensor. Received: inputs=OrderedDict([('sex', <tf.Tensor 'IteratorGetNext:5' shape=(None,) dtype=string>), ('class', <tf.Tensor 'IteratorGetNext:1' shape=(None,) dtype=string>), ('deck', <tf.Tensor 'IteratorGetNext:2' shape=(None,) dtype=string>), ('embark_town', <tf.Tensor 'IteratorGetNext:3' shape=(None,) dtype=string>), ('alone', <tf.Tensor 'IteratorGetNext:0' shape=(None,) dtype=string>), ('numeric', <tf.Tensor 'IteratorGetNext:4' shape=(None, 4) dtype=float32>)]). Consider rewriting this model with the Functional API.\n"
          ]
        },
        {
          "output_type": "stream",
          "name": "stdout",
          "text": [
            "3/3 [==============================] - 1s 32ms/step\n",
            "Predicted survival: -261.12%  | Actual outcome:  SURVIVED\n",
            "Predicted survival: 17.38%  | Actual outcome:  DIED\n",
            "Predicted survival: -174.10%  | Actual outcome:  SURVIVED\n",
            "Predicted survival: -220.70%  | Actual outcome:  DIED\n",
            "Predicted survival: -120.30%  | Actual outcome:  DIED\n",
            "Predicted survival: 30.63%  | Actual outcome:  DIED\n",
            "Predicted survival: -21.90%  | Actual outcome:  DIED\n",
            "Predicted survival: -214.54%  | Actual outcome:  DIED\n",
            "Predicted survival: -219.98%  | Actual outcome:  DIED\n",
            "Predicted survival: -384.27%  | Actual outcome:  DIED\n"
          ]
        }
      ]
    },
    {
      "cell_type": "code",
      "source": [
        "EPOCHS = 30\n",
        "\n",
        "history = model.fit(train_data, epochs=EPOCHS, \n",
        "                    validation_data=test_data)"
      ],
      "metadata": {
        "id": "gTMxlvE4clrr",
        "colab": {
          "base_uri": "https://localhost:8080/"
        },
        "outputId": "b8207f2f-8ef8-44dd-e4ac-842b6d8455b9"
      },
      "execution_count": 60,
      "outputs": [
        {
          "output_type": "stream",
          "name": "stdout",
          "text": [
            "Epoch 1/30\n",
            "7/7 [==============================] - 0s 32ms/step - loss: 0.3497 - accuracy: 0.8469 - val_loss: 0.4271 - val_accuracy: 0.8333\n",
            "Epoch 2/30\n",
            "7/7 [==============================] - 0s 64ms/step - loss: 0.3475 - accuracy: 0.8437 - val_loss: 0.4264 - val_accuracy: 0.8371\n",
            "Epoch 3/30\n",
            "7/7 [==============================] - 0s 33ms/step - loss: 0.3449 - accuracy: 0.8453 - val_loss: 0.4326 - val_accuracy: 0.8333\n",
            "Epoch 4/30\n",
            "7/7 [==============================] - 1s 154ms/step - loss: 0.3431 - accuracy: 0.8501 - val_loss: 0.4310 - val_accuracy: 0.8447\n",
            "Epoch 5/30\n",
            "7/7 [==============================] - 0s 26ms/step - loss: 0.3407 - accuracy: 0.8517 - val_loss: 0.4253 - val_accuracy: 0.8447\n",
            "Epoch 6/30\n",
            "7/7 [==============================] - 0s 30ms/step - loss: 0.3404 - accuracy: 0.8501 - val_loss: 0.4290 - val_accuracy: 0.8447\n",
            "Epoch 7/30\n",
            "7/7 [==============================] - 0s 29ms/step - loss: 0.3369 - accuracy: 0.8517 - val_loss: 0.4341 - val_accuracy: 0.8371\n",
            "Epoch 8/30\n",
            "7/7 [==============================] - 0s 29ms/step - loss: 0.3353 - accuracy: 0.8485 - val_loss: 0.4309 - val_accuracy: 0.8485\n",
            "Epoch 9/30\n",
            "7/7 [==============================] - 0s 30ms/step - loss: 0.3328 - accuracy: 0.8533 - val_loss: 0.4293 - val_accuracy: 0.8485\n",
            "Epoch 10/30\n",
            "7/7 [==============================] - 0s 33ms/step - loss: 0.3318 - accuracy: 0.8533 - val_loss: 0.4360 - val_accuracy: 0.8333\n",
            "Epoch 11/30\n",
            "7/7 [==============================] - 0s 48ms/step - loss: 0.3285 - accuracy: 0.8596 - val_loss: 0.4259 - val_accuracy: 0.8485\n",
            "Epoch 12/30\n",
            "7/7 [==============================] - 0s 31ms/step - loss: 0.3260 - accuracy: 0.8581 - val_loss: 0.4241 - val_accuracy: 0.8485\n",
            "Epoch 13/30\n",
            "7/7 [==============================] - 0s 41ms/step - loss: 0.3286 - accuracy: 0.8549 - val_loss: 0.4267 - val_accuracy: 0.8485\n",
            "Epoch 14/30\n",
            "7/7 [==============================] - 0s 30ms/step - loss: 0.3227 - accuracy: 0.8581 - val_loss: 0.4294 - val_accuracy: 0.8447\n",
            "Epoch 15/30\n",
            "7/7 [==============================] - 0s 32ms/step - loss: 0.3219 - accuracy: 0.8596 - val_loss: 0.4314 - val_accuracy: 0.8485\n",
            "Epoch 16/30\n",
            "7/7 [==============================] - 0s 45ms/step - loss: 0.3254 - accuracy: 0.8596 - val_loss: 0.4383 - val_accuracy: 0.8409\n",
            "Epoch 17/30\n",
            "7/7 [==============================] - 0s 44ms/step - loss: 0.3184 - accuracy: 0.8644 - val_loss: 0.4343 - val_accuracy: 0.8485\n",
            "Epoch 18/30\n",
            "7/7 [==============================] - 0s 50ms/step - loss: 0.3162 - accuracy: 0.8581 - val_loss: 0.4419 - val_accuracy: 0.8447\n",
            "Epoch 19/30\n",
            "7/7 [==============================] - 0s 31ms/step - loss: 0.3138 - accuracy: 0.8581 - val_loss: 0.4363 - val_accuracy: 0.8485\n",
            "Epoch 20/30\n",
            "7/7 [==============================] - 0s 39ms/step - loss: 0.3135 - accuracy: 0.8644 - val_loss: 0.4367 - val_accuracy: 0.8523\n",
            "Epoch 21/30\n",
            "7/7 [==============================] - 0s 29ms/step - loss: 0.3112 - accuracy: 0.8596 - val_loss: 0.4358 - val_accuracy: 0.8447\n",
            "Epoch 22/30\n",
            "7/7 [==============================] - 0s 26ms/step - loss: 0.3117 - accuracy: 0.8581 - val_loss: 0.4343 - val_accuracy: 0.8485\n",
            "Epoch 23/30\n",
            "7/7 [==============================] - 0s 42ms/step - loss: 0.3104 - accuracy: 0.8660 - val_loss: 0.4410 - val_accuracy: 0.8523\n",
            "Epoch 24/30\n",
            "7/7 [==============================] - 0s 32ms/step - loss: 0.3075 - accuracy: 0.8628 - val_loss: 0.4355 - val_accuracy: 0.8447\n",
            "Epoch 25/30\n",
            "7/7 [==============================] - 0s 37ms/step - loss: 0.3052 - accuracy: 0.8676 - val_loss: 0.4358 - val_accuracy: 0.8523\n",
            "Epoch 26/30\n",
            "7/7 [==============================] - 0s 21ms/step - loss: 0.3027 - accuracy: 0.8692 - val_loss: 0.4407 - val_accuracy: 0.8485\n",
            "Epoch 27/30\n",
            "7/7 [==============================] - 0s 16ms/step - loss: 0.3011 - accuracy: 0.8676 - val_loss: 0.4402 - val_accuracy: 0.8485\n",
            "Epoch 28/30\n",
            "7/7 [==============================] - 0s 23ms/step - loss: 0.3009 - accuracy: 0.8660 - val_loss: 0.4496 - val_accuracy: 0.8409\n",
            "Epoch 29/30\n",
            "7/7 [==============================] - 0s 32ms/step - loss: 0.2993 - accuracy: 0.8676 - val_loss: 0.4401 - val_accuracy: 0.8409\n",
            "Epoch 30/30\n",
            "7/7 [==============================] - 0s 30ms/step - loss: 0.2994 - accuracy: 0.8724 - val_loss: 0.4423 - val_accuracy: 0.8447\n"
          ]
        }
      ]
    },
    {
      "cell_type": "code",
      "source": [
        "history.history"
      ],
      "metadata": {
        "id": "5kacjnzIclqm",
        "colab": {
          "base_uri": "https://localhost:8080/"
        },
        "outputId": "c56e3ae3-ebbd-4a74-e603-e20fe3eae1d0"
      },
      "execution_count": 61,
      "outputs": [
        {
          "output_type": "execute_result",
          "data": {
            "text/plain": [
              "{'loss': [0.34971877932548523,\n",
              "  0.3475401699542999,\n",
              "  0.3449358344078064,\n",
              "  0.3431382179260254,\n",
              "  0.3406783640384674,\n",
              "  0.34038907289505005,\n",
              "  0.3369275629520416,\n",
              "  0.3353480398654938,\n",
              "  0.3327900171279907,\n",
              "  0.33183228969573975,\n",
              "  0.3285404443740845,\n",
              "  0.32601848244667053,\n",
              "  0.32864585518836975,\n",
              "  0.32274124026298523,\n",
              "  0.32188618183135986,\n",
              "  0.32544615864753723,\n",
              "  0.31835120916366577,\n",
              "  0.31618520617485046,\n",
              "  0.313790887594223,\n",
              "  0.31352823972702026,\n",
              "  0.3111535310745239,\n",
              "  0.31165584921836853,\n",
              "  0.310425341129303,\n",
              "  0.3074721097946167,\n",
              "  0.30524662137031555,\n",
              "  0.30273932218551636,\n",
              "  0.301101952791214,\n",
              "  0.3008853495121002,\n",
              "  0.2992734909057617,\n",
              "  0.29943668842315674],\n",
              " 'accuracy': [0.8468899726867676,\n",
              "  0.8437001705169678,\n",
              "  0.8452950716018677,\n",
              "  0.8500797152519226,\n",
              "  0.8516746163368225,\n",
              "  0.8500797152519226,\n",
              "  0.8516746163368225,\n",
              "  0.8484848737716675,\n",
              "  0.8532695174217224,\n",
              "  0.8532695174217224,\n",
              "  0.859649121761322,\n",
              "  0.8580542206764221,\n",
              "  0.8548644185066223,\n",
              "  0.8580542206764221,\n",
              "  0.859649121761322,\n",
              "  0.859649121761322,\n",
              "  0.8644338250160217,\n",
              "  0.8580542206764221,\n",
              "  0.8580542206764221,\n",
              "  0.8644338250160217,\n",
              "  0.859649121761322,\n",
              "  0.8580542206764221,\n",
              "  0.8660287261009216,\n",
              "  0.8628389239311218,\n",
              "  0.8676236271858215,\n",
              "  0.8692185282707214,\n",
              "  0.8676236271858215,\n",
              "  0.8660287261009216,\n",
              "  0.8676236271858215,\n",
              "  0.8724082708358765],\n",
              " 'val_loss': [0.42706847190856934,\n",
              "  0.4263809025287628,\n",
              "  0.43260297179222107,\n",
              "  0.43101078271865845,\n",
              "  0.4252889156341553,\n",
              "  0.4289950132369995,\n",
              "  0.43410593271255493,\n",
              "  0.4309466481208801,\n",
              "  0.4293293356895447,\n",
              "  0.43601661920547485,\n",
              "  0.4259409010410309,\n",
              "  0.42410269379615784,\n",
              "  0.4267320930957794,\n",
              "  0.4294411838054657,\n",
              "  0.43135833740234375,\n",
              "  0.4383484423160553,\n",
              "  0.4342521131038666,\n",
              "  0.4419388771057129,\n",
              "  0.43629708886146545,\n",
              "  0.43674686551094055,\n",
              "  0.4357709288597107,\n",
              "  0.4343365728855133,\n",
              "  0.4410111606121063,\n",
              "  0.4355442523956299,\n",
              "  0.4357980191707611,\n",
              "  0.440699964761734,\n",
              "  0.44017669558525085,\n",
              "  0.44955429434776306,\n",
              "  0.4401136338710785,\n",
              "  0.44233739376068115],\n",
              " 'val_accuracy': [0.8333333134651184,\n",
              "  0.8371211886405945,\n",
              "  0.8333333134651184,\n",
              "  0.8446969985961914,\n",
              "  0.8446969985961914,\n",
              "  0.8446969985961914,\n",
              "  0.8371211886405945,\n",
              "  0.8484848737716675,\n",
              "  0.8484848737716675,\n",
              "  0.8333333134651184,\n",
              "  0.8484848737716675,\n",
              "  0.8484848737716675,\n",
              "  0.8484848737716675,\n",
              "  0.8446969985961914,\n",
              "  0.8484848737716675,\n",
              "  0.8409090638160706,\n",
              "  0.8484848737716675,\n",
              "  0.8446969985961914,\n",
              "  0.8484848737716675,\n",
              "  0.8522727489471436,\n",
              "  0.8446969985961914,\n",
              "  0.8484848737716675,\n",
              "  0.8522727489471436,\n",
              "  0.8446969985961914,\n",
              "  0.8522727489471436,\n",
              "  0.8484848737716675,\n",
              "  0.8484848737716675,\n",
              "  0.8409090638160706,\n",
              "  0.8409090638160706,\n",
              "  0.8446969985961914]}"
            ]
          },
          "metadata": {},
          "execution_count": 61
        }
      ]
    },
    {
      "cell_type": "code",
      "source": [
        "history.history.keys()"
      ],
      "metadata": {
        "id": "_8BI6pW_clpb",
        "colab": {
          "base_uri": "https://localhost:8080/"
        },
        "outputId": "4aabfefb-118f-489f-8578-491fc0f8272c"
      },
      "execution_count": 62,
      "outputs": [
        {
          "output_type": "execute_result",
          "data": {
            "text/plain": [
              "dict_keys(['loss', 'accuracy', 'val_loss', 'val_accuracy'])"
            ]
          },
          "metadata": {},
          "execution_count": 62
        }
      ]
    },
    {
      "cell_type": "code",
      "source": [
        "# instanciando as métricas do modelo\n",
        "accuracy = history.history['accuracy']\n",
        "val_accuracy = history.history['val_accuracy']\n",
        "\n",
        "loss = history.history['loss']\n",
        "val_loss = history.history['val_loss']"
      ],
      "metadata": {
        "id": "iz1vQI2xRRu3"
      },
      "execution_count": 63,
      "outputs": []
    },
    {
      "cell_type": "code",
      "source": [
        "import matplotlib.pyplot as plt\n",
        "\n",
        "%matplotlib inline\n",
        "plt.style.use('fivethirtyeight')"
      ],
      "metadata": {
        "id": "i8NNmPV2BK3L"
      },
      "execution_count": 64,
      "outputs": []
    },
    {
      "cell_type": "code",
      "source": [
        "# plotando o gráfico \n",
        "plt.figure(figsize=(16, 9))\n",
        "\n",
        "plt.plot(range(EPOCHS), accuracy, 'r', label='Training Accuracy')\n",
        "plt.plot(range(EPOCHS), val_accuracy, 'orange', \n",
        "         label='Validation Accuracy')\n",
        "\n",
        "plt.plot(range(EPOCHS), loss, 'b', label='Training Loss')\n",
        "plt.plot(range(EPOCHS), val_loss, 'g', \n",
        "         label='Validation Loss')\n",
        "\n",
        "plt.legend(loc='best')    # lower left, lower right, upper left, upper rigth, best, center\n",
        "plt.gca().set_ylim(0, 1)\n",
        "plt.grid(True)\n",
        "\n",
        "plt.title('Training & Validation\\n', size=20)\n",
        "plt.xlabel('epochs', size=16)\n",
        "plt.ylabel('accuracy', size=16)\n",
        "plt.show();"
      ],
      "metadata": {
        "colab": {
          "base_uri": "https://localhost:8080/",
          "height": 635
        },
        "id": "rNVjTym4RRsJ",
        "outputId": "6e836f05-f907-45ef-fa17-497e9e6db1aa"
      },
      "execution_count": 65,
      "outputs": [
        {
          "output_type": "display_data",
          "data": {
            "text/plain": [
              "<Figure size 1152x648 with 1 Axes>"
            ],
            "image/png": "[encoded data removed]"
          },
          "metadata": {}
        }
      ]
    },
    {
      "cell_type": "code",
      "source": [
        "# visualizando as variáveis local do ambiente\n",
        "%whos"
      ],
      "metadata": {
        "colab": {
          "base_uri": "https://localhost:8080/"
        },
        "id": "x_Rm8RObAB4k",
        "outputId": "c9aec0ef-25d5-4bbb-f266-4961107f6d9b"
      },
      "execution_count": 66,
      "outputs": [
        {
          "output_type": "stream",
          "name": "stdout",
          "text": [
            "Variable                 Type                               Data/Info\n",
            "---------------------------------------------------------------------\n",
            "CATEGORIES               dict                               n=5\n",
            "CSV_COLMUNS              list                               n=10\n",
            "DEFAULTS                 list                               n=5\n",
            "EPOCHS                   int                                30\n",
            "LABELS                   list                               n=2\n",
            "LABEL_COLUMN             str                                survived\n",
            "MEAN                     ndarray                            4: 4 elems, type `float64`, 32 bytes\n",
            "NUMERIC_FEATURES         list                               n=4\n",
            "PackNumericFeatures      type                               <class '__main__.PackNumericFeatures'>\n",
            "SELECT_COLUMNS           list                               n=5\n",
            "STD                      ndarray                            4: 4 elems, type `float64`, 32 bytes\n",
            "TEST_DATA_URL            str                                https://storage.googleapi<...>datasets/titanic/eval.csv\n",
            "TRAIN_DATA_URL           str                                https://storage.googleapi<...>atasets/titanic/train.csv\n",
            "absolute_import          _Feature                           _Feature((2, 5, 0, 'alpha<...>, 0, 'alpha', 0), 262144)\n",
            "accuracy                 list                               n=30\n",
            "cat_col                  VocabularyListCategoricalColumn    VocabularyListCategorical<...>ue=-1, num_oov_buckets=0)\n",
            "categorical_columns      list                               n=5\n",
            "categorical_layer        DenseFeatures                      <keras.feature_column.den<...>object at 0x7f41744fbf10>\n",
            "desc                     DataFrame                                        age  n_sibl<...>0    5.000000  512.329200\n",
            "division                 _Feature                           _Feature((2, 2, 0, 'alpha<...>, 0, 'alpha', 0), 131072)\n",
            "example_batch            OrderedDict                        OrderedDict([('sex', <tf.<...>05 ]], dtype=float32)>)])\n",
            "feature                  str                                alone\n",
            "features                 EagerTensor                        tf.Tensor(\\n[[ 39.      1<...>=(100, 4), dtype=float32)\n",
            "functools                module                             <module 'functools' from <...>/python3.8/functools.py'>\n",
            "get_dataset              function                           <function get_dataset at 0x7f4177b5e3a0>\n",
            "history                  History                            <keras.callbacks.History <...>object at 0x7f415e86da00>\n",
            "labels                   EagerTensor                        tf.Tensor(\\n[1 0 0 0 0 0 <...>hape=(100,), dtype=int32)\n",
            "labels_batch             EagerTensor                        tf.Tensor(\\n[0 0 1 0 1 1 <...>hape=(100,), dtype=int32)\n",
            "loss                     list                               n=30\n",
            "model                    Sequential                         <keras.engine.sequential.<...>object at 0x7f41744892b0>\n",
            "normalize_numeric_data   function                           <function normalize_numer<...>c_data at 0x7f4174400700>\n",
            "normalizer               partial                            functools.partial(<functi<...> 1.151,  0.793, 54.598]))\n",
            "np                       module                             <module 'numpy' from '/us<...>kages/numpy/__init__.py'>\n",
            "numeric_column           NumericColumn                      NumericColumn(key='numeri<...>1.151,  0.793, 54.598])))\n",
            "numeric_columns          list                               n=1\n",
            "numeric_layer            DenseFeatures                      <keras.feature_column.den<...>object at 0x7f417448ea60>\n",
            "pack                     function                           <function pack at 0x7f4174499c10>\n",
            "packed_dataset           MapDataset                         <MapDataset element_spec=<...>pe=tf.int32, name=None))>\n",
            "packed_test_data         MapDataset                         <MapDataset element_spec=<...>pe=tf.int32, name=None))>\n",
            "packed_train_data        MapDataset                         <MapDataset element_spec=<...>pe=tf.int32, name=None))>\n",
            "pd                       module                             <module 'pandas' from '/u<...>ages/pandas/__init__.py'>\n",
            "plt                      module                             <module 'matplotlib.pyplo<...>es/matplotlib/pyplot.py'>\n",
            "prediction               ndarray                            1: 1 elems, type `float32`, 4 bytes\n",
            "predictions              ndarray                            264x1: 264 elems, type `float32`, 1056 bytes\n",
            "preprocessing_layer      DenseFeatures                      <keras.feature_column.den<...>object at 0x7f417445a820>\n",
            "print_function           _Feature                           _Feature((2, 6, 0, 'alpha<...> 0, 'alpha', 0), 1048576)\n",
            "raw_test_data            PrefetchDataset                    <PrefetchDataset element_<...>pe=tf.int32, name=None))>\n",
            "raw_train_data           PrefetchDataset                    <PrefetchDataset element_<...>pe=tf.int32, name=None))>\n",
            "show_batch               function                           <function show_batch at 0x7f4177ae78b0>\n",
            "survived                 EagerTensor                        tf.Tensor(0, shape=(), dtype=int32)\n",
            "temp_dataset             PrefetchDataset                    <PrefetchDataset element_<...>pe=tf.int32, name=None))>\n",
            "test_accuracy            float                              0.8333333134651184\n",
            "test_data                MapDataset                         <MapDataset element_spec=<...>pe=tf.int32, name=None))>\n",
            "test_file_path           str                                /root/.keras/datasets/eval.csv\n",
            "test_loss                float                              0.4270872473716736\n",
            "tf                       module                             <module 'tensorflow' from<...>/tensorflow/__init__.py'>\n",
            "train_data               ShuffleDataset                     <ShuffleDataset element_s<...>pe=tf.int32, name=None))>\n",
            "train_file_path          str                                /root/.keras/datasets/train.csv\n",
            "unicode_literals         _Feature                           _Feature((2, 6, 0, 'alpha<...> 0, 'alpha', 0), 2097152)\n",
            "val_accuracy             list                               n=30\n",
            "val_loss                 list                               n=30\n",
            "vocab                    list                               n=2\n"
          ]
        }
      ]
    },
    {
      "cell_type": "code",
      "source": [
        "# visualizando as variáveis local do ambiente em formato de lista\n",
        "%who_ls"
      ],
      "metadata": {
        "colab": {
          "base_uri": "https://localhost:8080/"
        },
        "id": "rpgZFzuwAB29",
        "outputId": "413ff6ec-e85a-4e84-dee9-8da2acf71af1"
      },
      "execution_count": 67,
      "outputs": [
        {
          "output_type": "execute_result",
          "data": {
            "text/plain": [
              "['CATEGORIES',\n",
              " 'CSV_COLMUNS',\n",
              " 'DEFAULTS',\n",
              " 'EPOCHS',\n",
              " 'LABELS',\n",
              " 'LABEL_COLUMN',\n",
              " 'MEAN',\n",
              " 'NUMERIC_FEATURES',\n",
              " 'PackNumericFeatures',\n",
              " 'SELECT_COLUMNS',\n",
              " 'STD',\n",
              " 'TEST_DATA_URL',\n",
              " 'TRAIN_DATA_URL',\n",
              " 'absolute_import',\n",
              " 'accuracy',\n",
              " 'cat_col',\n",
              " 'categorical_columns',\n",
              " 'categorical_layer',\n",
              " 'desc',\n",
              " 'division',\n",
              " 'example_batch',\n",
              " 'feature',\n",
              " 'features',\n",
              " 'functools',\n",
              " 'get_dataset',\n",
              " 'history',\n",
              " 'labels',\n",
              " 'labels_batch',\n",
              " 'loss',\n",
              " 'model',\n",
              " 'normalize_numeric_data',\n",
              " 'normalizer',\n",
              " 'np',\n",
              " 'numeric_column',\n",
              " 'numeric_columns',\n",
              " 'numeric_layer',\n",
              " 'pack',\n",
              " 'packed_dataset',\n",
              " 'packed_test_data',\n",
              " 'packed_train_data',\n",
              " 'pd',\n",
              " 'plt',\n",
              " 'prediction',\n",
              " 'predictions',\n",
              " 'preprocessing_layer',\n",
              " 'print_function',\n",
              " 'raw_test_data',\n",
              " 'raw_train_data',\n",
              " 'show_batch',\n",
              " 'survived',\n",
              " 'temp_dataset',\n",
              " 'test_accuracy',\n",
              " 'test_data',\n",
              " 'test_file_path',\n",
              " 'test_loss',\n",
              " 'tf',\n",
              " 'train_data',\n",
              " 'train_file_path',\n",
              " 'unicode_literals',\n",
              " 'val_accuracy',\n",
              " 'val_loss',\n",
              " 'vocab']"
            ]
          },
          "metadata": {},
          "execution_count": 67
        }
      ]
    },
    {
      "cell_type": "code",
      "source": [],
      "metadata": {
        "id": "pp8qSASVAB1q"
      },
      "execution_count": 67,
      "outputs": []
    },
    {
      "cell_type": "code",
      "source": [],
      "metadata": {
        "id": "ROeY7a00ABxc"
      },
      "execution_count": 67,
      "outputs": []
    },
    {
      "cell_type": "code",
      "source": [],
      "metadata": {
        "id": "GAJTzAquABvI"
      },
      "execution_count": 67,
      "outputs": []
    }
  ]
}